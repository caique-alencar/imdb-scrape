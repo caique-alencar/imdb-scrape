{
 "cells": [
  {
   "cell_type": "code",
   "execution_count": 1,
   "metadata": {},
   "outputs": [
    {
     "name": "stdout",
     "output_type": "stream",
     "text": [
      "[{'serie': 'Chernobyl', 'temporada': '1', 'episodio': ' 1', 'nome_episodio': '1:23:45', 'nota': 9.5, 'votos': 42701}, {'serie': 'Chernobyl', 'temporada': '1', 'episodio': ' 2', 'nome_episodio': 'Please Remain Calm', 'nota': 9.7, 'votos': 40352}, {'serie': 'Chernobyl', 'temporada': '1', 'episodio': ' 3', 'nome_episodio': 'Open Wide, O Earth', 'nota': 9.6, 'votos': 37796}, {'serie': 'Chernobyl', 'temporada': '1', 'episodio': ' 4', 'nome_episodio': 'The Happiness of All Mankind', 'nota': 9.5, 'votos': 35375}, {'serie': 'Chernobyl', 'temporada': '1', 'episodio': ' 5', 'nome_episodio': 'Vichnaya Pamyat', 'nota': 9.9, 'votos': 45689}, {'serie': 'Escape at Dannemora', 'temporada': '1', 'episodio': ' 6', 'nome_episodio': 'Part 6', 'nota': 7.9, 'votos': 615}, {'serie': 'Escape at Dannemora', 'temporada': '1', 'episodio': ' 7', 'nome_episodio': 'Part 7', 'nota': 8.5, 'votos': 515}, {'serie': 'Fosse/Verdon', 'temporada': '1', 'episodio': ' 8', 'nome_episodio': 'Providence', 'nota': 8.9, 'votos': 147}, {'serie': 'A Very English Scandal', 'temporada': '1', 'episodio': ' 1', 'nome_episodio': 'Episode #1.1', 'nota': 7.9, 'votos': 498}, {'serie': 'A Very English Scandal', 'temporada': '1', 'episodio': ' 2', 'nome_episodio': 'Episode #1.2', 'nota': 8.0, 'votos': 415}, {'serie': 'A Very English Scandal', 'temporada': '1', 'episodio': ' 3', 'nome_episodio': 'Episode #1.3', 'nota': 8.4, 'votos': 385}, {'serie': 'Olhos que Condenam', 'temporada': '1', 'episodio': ' 4', 'nome_episodio': 'Part Four', 'nota': 9.6, 'votos': 2899}]\n"
     ]
    }
   ],
   "source": [
    "# Melhor Roteiro para Minissérie ou Filme para TV\n",
    "\n",
    "import requests\n",
    "from bs4 import BeautifulSoup\n",
    "\n",
    "planilha = []\n",
    "\n",
    "links_episodios = [\"https://www.imdb.com/title/tt8162428/?ref_=ttep_ep1\",\n",
    "                   \"https://www.imdb.com/title/tt8482972/?ref_=ttep_ep2\",\n",
    "                   \"https://www.imdb.com/title/tt9166672/?ref_=ttep_ep3\",\n",
    "                   \"https://www.imdb.com/title/tt9166678/?ref_=ttep_ep4\",\n",
    "                   \"https://www.imdb.com/title/tt9166696/?ref_=ttep_ep5\",\n",
    "                   \"https://www.imdb.com/title/tt7571640/?ref_=ttep_ep6\",\n",
    "                   \"https://www.imdb.com/title/tt7627118/?ref_=ttep_ep7\",\n",
    "                   \"https://www.imdb.com/title/tt8746508/?ref_=ttep_ep8\",\n",
    "                   \"https://www.imdb.com/title/tt8135650/?ref_=ttep_ep1\",\n",
    "                   \"https://www.imdb.com/title/tt8135652/?ref_=ttep_ep2\",\n",
    "                   \"https://www.imdb.com/title/tt8135658/?ref_=ttep_ep3\",\n",
    "                   \"https://www.imdb.com/title/tt8805244/?ref_=ttep_ep4\"]\n",
    "\n",
    "for link in links_episodios: # Pega cada link da lista de links para fazer a requisição\n",
    "    requisicao = requests.get(link)\n",
    "\n",
    "    sopa = BeautifulSoup(requisicao.content, \"html.parser\") # Dados brutos da página inteira\n",
    "    \n",
    "    # Conjunto que acha o nome da série\n",
    "    acha_nome = sopa.find(\"div\", {\"class\": \"titleParent\"})\n",
    "    nome_serie = acha_nome.find(\"a\").text\n",
    "\n",
    "    # Conjunto que acha a temporada e o número do episódio\n",
    "    acha_temp_episodio = sopa.find(\"div\", {\"class\": \"bp_description\"})\n",
    "    temp_episodio = acha_temp_episodio.find(\"div\", {\"class\": \"bp_heading\"}).text.strip() # Temporada e episódio dentro da mesma tag separados por |\n",
    "    lista = temp_episodio.split(\" | \") # Comando split e cria uma lista com os dois itens\n",
    "    temporada = lista[0] # Primeiro item da lista corresponde à temporada\n",
    "    episodio = lista[1] # Segundo item da lista corresponde ao episódio\n",
    "    temporada = temporada.replace(\"Season \", \"\") # Limpa para deixar só o número\n",
    "    episodio = episodio.replace(\"Episode\", \"\") # Limpa para deixar só o número\n",
    "    \n",
    "    # Conjunto que acha o nome do episódio\n",
    "    acha_nome_episodio = sopa.find(\"div\", {\"class\": \"title_wrapper\"}) # Div com o nome do episódio\n",
    "    nome_episodio = acha_nome_episodio.find(\"h1\").text.strip() # Limpa só o nome do episódio\n",
    "    \n",
    "    # Conjunto que acha a avaliação do episódio\n",
    "    avaliacao = sopa.find(\"div\", {\"class\": \"imdbRating\"})\n",
    "    nota = avaliacao.find(\"span\", {\"itemprop\": \"ratingValue\"}).text.strip()\n",
    "    votos = avaliacao.find(\"span\", {\"itemprop\": \"ratingCount\"}).text.strip()\n",
    "    votos = votos.replace(\",\", \"\") # Limpa para poder converter para inteiro\n",
    "    \n",
    "    dicionario = {\"serie\": nome_serie, \"temporada\": temporada, \"episodio\": episodio, \"nome_episodio\": nome_episodio, \"nota\": float(nota), \"votos\": int(votos)} # Monta o dicionário\n",
    "    planilha.append(dicionario) # Adiciona planilha ao dicionário\n",
    "    \n",
    "print(planilha)"
   ]
  },
  {
   "cell_type": "code",
   "execution_count": 2,
   "metadata": {},
   "outputs": [
    {
     "data": {
      "text/html": [
       "<div>\n",
       "<style scoped>\n",
       "    .dataframe tbody tr th:only-of-type {\n",
       "        vertical-align: middle;\n",
       "    }\n",
       "\n",
       "    .dataframe tbody tr th {\n",
       "        vertical-align: top;\n",
       "    }\n",
       "\n",
       "    .dataframe thead th {\n",
       "        text-align: right;\n",
       "    }\n",
       "</style>\n",
       "<table border=\"1\" class=\"dataframe\">\n",
       "  <thead>\n",
       "    <tr style=\"text-align: right;\">\n",
       "      <th></th>\n",
       "      <th>episodio</th>\n",
       "      <th>nome_episodio</th>\n",
       "      <th>nota</th>\n",
       "      <th>serie</th>\n",
       "      <th>temporada</th>\n",
       "      <th>votos</th>\n",
       "    </tr>\n",
       "  </thead>\n",
       "  <tbody>\n",
       "    <tr>\n",
       "      <th>4</th>\n",
       "      <td>5</td>\n",
       "      <td>Vichnaya Pamyat</td>\n",
       "      <td>9.9</td>\n",
       "      <td>Chernobyl</td>\n",
       "      <td>1</td>\n",
       "      <td>45689</td>\n",
       "    </tr>\n",
       "    <tr>\n",
       "      <th>1</th>\n",
       "      <td>2</td>\n",
       "      <td>Please Remain Calm</td>\n",
       "      <td>9.7</td>\n",
       "      <td>Chernobyl</td>\n",
       "      <td>1</td>\n",
       "      <td>40352</td>\n",
       "    </tr>\n",
       "    <tr>\n",
       "      <th>2</th>\n",
       "      <td>3</td>\n",
       "      <td>Open Wide, O Earth</td>\n",
       "      <td>9.6</td>\n",
       "      <td>Chernobyl</td>\n",
       "      <td>1</td>\n",
       "      <td>37796</td>\n",
       "    </tr>\n",
       "    <tr>\n",
       "      <th>11</th>\n",
       "      <td>4</td>\n",
       "      <td>Part Four</td>\n",
       "      <td>9.6</td>\n",
       "      <td>Olhos que Condenam</td>\n",
       "      <td>1</td>\n",
       "      <td>2899</td>\n",
       "    </tr>\n",
       "    <tr>\n",
       "      <th>0</th>\n",
       "      <td>1</td>\n",
       "      <td>1:23:45</td>\n",
       "      <td>9.5</td>\n",
       "      <td>Chernobyl</td>\n",
       "      <td>1</td>\n",
       "      <td>42701</td>\n",
       "    </tr>\n",
       "    <tr>\n",
       "      <th>3</th>\n",
       "      <td>4</td>\n",
       "      <td>The Happiness of All Mankind</td>\n",
       "      <td>9.5</td>\n",
       "      <td>Chernobyl</td>\n",
       "      <td>1</td>\n",
       "      <td>35375</td>\n",
       "    </tr>\n",
       "    <tr>\n",
       "      <th>7</th>\n",
       "      <td>8</td>\n",
       "      <td>Providence</td>\n",
       "      <td>8.9</td>\n",
       "      <td>Fosse/Verdon</td>\n",
       "      <td>1</td>\n",
       "      <td>147</td>\n",
       "    </tr>\n",
       "    <tr>\n",
       "      <th>6</th>\n",
       "      <td>7</td>\n",
       "      <td>Part 7</td>\n",
       "      <td>8.5</td>\n",
       "      <td>Escape at Dannemora</td>\n",
       "      <td>1</td>\n",
       "      <td>515</td>\n",
       "    </tr>\n",
       "    <tr>\n",
       "      <th>10</th>\n",
       "      <td>3</td>\n",
       "      <td>Episode #1.3</td>\n",
       "      <td>8.4</td>\n",
       "      <td>A Very English Scandal</td>\n",
       "      <td>1</td>\n",
       "      <td>385</td>\n",
       "    </tr>\n",
       "    <tr>\n",
       "      <th>9</th>\n",
       "      <td>2</td>\n",
       "      <td>Episode #1.2</td>\n",
       "      <td>8.0</td>\n",
       "      <td>A Very English Scandal</td>\n",
       "      <td>1</td>\n",
       "      <td>415</td>\n",
       "    </tr>\n",
       "    <tr>\n",
       "      <th>5</th>\n",
       "      <td>6</td>\n",
       "      <td>Part 6</td>\n",
       "      <td>7.9</td>\n",
       "      <td>Escape at Dannemora</td>\n",
       "      <td>1</td>\n",
       "      <td>615</td>\n",
       "    </tr>\n",
       "    <tr>\n",
       "      <th>8</th>\n",
       "      <td>1</td>\n",
       "      <td>Episode #1.1</td>\n",
       "      <td>7.9</td>\n",
       "      <td>A Very English Scandal</td>\n",
       "      <td>1</td>\n",
       "      <td>498</td>\n",
       "    </tr>\n",
       "  </tbody>\n",
       "</table>\n",
       "</div>"
      ],
      "text/plain": [
       "   episodio                 nome_episodio  nota                   serie  \\\n",
       "4         5               Vichnaya Pamyat   9.9               Chernobyl   \n",
       "1         2            Please Remain Calm   9.7               Chernobyl   \n",
       "2         3            Open Wide, O Earth   9.6               Chernobyl   \n",
       "11        4                     Part Four   9.6      Olhos que Condenam   \n",
       "0         1                       1:23:45   9.5               Chernobyl   \n",
       "3         4  The Happiness of All Mankind   9.5               Chernobyl   \n",
       "7         8                    Providence   8.9            Fosse/Verdon   \n",
       "6         7                        Part 7   8.5     Escape at Dannemora   \n",
       "10        3                  Episode #1.3   8.4  A Very English Scandal   \n",
       "9         2                  Episode #1.2   8.0  A Very English Scandal   \n",
       "5         6                        Part 6   7.9     Escape at Dannemora   \n",
       "8         1                  Episode #1.1   7.9  A Very English Scandal   \n",
       "\n",
       "   temporada  votos  \n",
       "4          1  45689  \n",
       "1          1  40352  \n",
       "2          1  37796  \n",
       "11         1   2899  \n",
       "0          1  42701  \n",
       "3          1  35375  \n",
       "7          1    147  \n",
       "6          1    515  \n",
       "10         1    385  \n",
       "9          1    415  \n",
       "5          1    615  \n",
       "8          1    498  "
      ]
     },
     "execution_count": 2,
     "metadata": {},
     "output_type": "execute_result"
    }
   ],
   "source": [
    "import pandas\n",
    "\n",
    "df = pandas.DataFrame(planilha)\n",
    "df.to_csv(\"roteiro-minisserie-filme-tv.csv\", sep = \";\", encoding = \"utf-8\")\n",
    "df.sort_values(by = \"nota\", ascending = False)"
   ]
  },
  {
   "cell_type": "code",
   "execution_count": 3,
   "metadata": {},
   "outputs": [
    {
     "data": {
      "text/plain": [
       "<matplotlib.axes._subplots.AxesSubplot at 0xc5753d0>"
      ]
     },
     "execution_count": 3,
     "metadata": {},
     "output_type": "execute_result"
    },
    {
     "data": {
      "image/png": "[encoded data removed]",
      "text/plain": [
       "<Figure size 432x288 with 1 Axes>"
      ]
     },
     "metadata": {},
     "output_type": "display_data"
    }
   ],
   "source": [
    "%matplotlib inline\n",
    "import matplotlib.pyplot as plt\n",
    "\n",
    "agrupamento1 = df.groupby(\"serie\")[\"nota\"].mean()\n",
    "agrupamento1.plot.bar()"
   ]
  },
  {
   "cell_type": "code",
   "execution_count": 4,
   "metadata": {},
   "outputs": [
    {
     "data": {
      "text/plain": [
       "<matplotlib.axes._subplots.AxesSubplot at 0xd5f50b0>"
      ]
     },
     "execution_count": 4,
     "metadata": {},
     "output_type": "execute_result"
    },
    {
     "data": {
      "image/png": "[encoded data removed]",
      "text/plain": [
       "<Figure size 432x288 with 1 Axes>"
      ]
     },
     "metadata": {},
     "output_type": "display_data"
    }
   ],
   "source": [
    "agrupamento2 = df.groupby(\"serie\")[\"votos\"].sum()\n",
    "agrupamento2.plot.bar()"
   ]
  },
  {
   "cell_type": "code",
   "execution_count": null,
   "metadata": {},
   "outputs": [],
   "source": []
  }
 ],
 "metadata": {
  "kernelspec": {
   "display_name": "Python 3",
   "language": "python",
   "name": "python3"
  },
  "language_info": {
   "codemirror_mode": {
    "name": "ipython",
    "version": 3
   },
   "file_extension": ".py",
   "mimetype": "text/x-python",
   "name": "python",
   "nbconvert_exporter": "python",
   "pygments_lexer": "ipython3",
   "version": "3.6.4"
  }
 },
 "nbformat": 4,
 "nbformat_minor": 2
}
