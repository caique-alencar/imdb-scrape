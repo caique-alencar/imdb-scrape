{
 "cells": [
  {
   "cell_type": "code",
   "execution_count": 54,
   "metadata": {},
   "outputs": [
    {
     "name": "stdout",
     "output_type": "stream",
     "text": [
      "[{'serie': 'Euphoria', 'temporada': '1', 'episodio': ' 1', 'nota': 8.3, 'votos': 2073}, {'serie': 'Euphoria', 'temporada': '1', 'episodio': ' 2', 'nota': 8.4, 'votos': 1537}, {'serie': 'Euphoria', 'temporada': '1', 'episodio': ' 3', 'nota': 8.7, 'votos': 1365}, {'serie': 'Euphoria', 'temporada': '1', 'episodio': ' 4', 'nota': 9.3, 'votos': 1673}, {'serie': 'Euphoria', 'temporada': '1', 'episodio': ' 5', 'nota': 8.5, 'votos': 1078}, {'serie': 'Euphoria', 'temporada': '1', 'episodio': ' 6', 'nota': 8.6, 'votos': 1026}, {'serie': 'Euphoria', 'temporada': '1', 'episodio': ' 7', 'nota': 9.0, 'votos': 1102}, {'serie': 'Euphoria', 'temporada': '1', 'episodio': ' 8', 'nota': 8.9, 'votos': 1166}]\n"
     ]
    }
   ],
   "source": [
    "import requests\n",
    "from bs4 import BeautifulSoup\n",
    "\n",
    "planilha = []\n",
    "\n",
    "links_episodios = [\"https://www.imdb.com/title/tt8135530/?ref_=ttep_ep1\",\n",
    "                   \"https://www.imdb.com/title/tt8806264/?ref_=ttep_ep2\",\n",
    "                   \"https://www.imdb.com/title/tt8806262/?ref_=ttep_ep3\",\n",
    "                   \"https://www.imdb.com/title/tt8806266/?ref_=ttep_ep4\",\n",
    "                   \"https://www.imdb.com/title/tt8806268/?ref_=ttep_ep5\",\n",
    "                   \"https://www.imdb.com/title/tt8806274/?ref_=ttep_ep6\",\n",
    "                   \"https://www.imdb.com/title/tt8806270/?ref_=ttep_ep7\",\n",
    "                   \"https://www.imdb.com/title/tt8806272/?ref_=ttep_ep8\"]\n",
    "\n",
    "for link in links_episodios: # Pega cada link da lista de links para fazer a requisição\n",
    "    requisicao = requests.get(link)\n",
    "\n",
    "    sopa = BeautifulSoup(requisicao.content, \"html.parser\") # Dados brutos da página inteira\n",
    "    \n",
    "    # Conjunto que acha o nome da série\n",
    "    acha_nome = sopa.find(\"div\", {\"class\": \"titleParent\"})\n",
    "    nome_serie = acha_nome.find(\"a\").text\n",
    "\n",
    "    # Conjunto que acha a temporada e o número do episódio\n",
    "    acha_temp_episodio = sopa.find(\"div\", {\"class\": \"bp_description\"})\n",
    "    temp_episodio = acha_temp_episodio.find(\"div\", {\"class\": \"bp_heading\"}).text.strip() # Temporada e episódio dentro da mesma tag separados por |\n",
    "    lista = temp_episodio.split(\" | \") # Comando split e cria uma lista com os dois itens\n",
    "    temporada = lista[0] # Primeiro item da lista corresponde à temporada\n",
    "    episodio = lista[1] # Segundo item da lista corresponde ao episódio\n",
    "    temporada = temporada.replace(\"Season \", \"\") # Limpa para deixar só o número\n",
    "    episodio = episodio.replace(\"Episode\", \"\") # Limpa para deixar só o número\n",
    "\n",
    "    # Conjunto que acha a avaliação do episódio\n",
    "    avaliacao = sopa.find(\"div\", {\"class\": \"imdbRating\"})\n",
    "    nota = avaliacao.find(\"span\", {\"itemprop\": \"ratingValue\"}).text.strip()\n",
    "    votos = avaliacao.find(\"span\", {\"itemprop\": \"ratingCount\"}).text.strip()\n",
    "    votos = votos.replace(\",\", \"\") # Limpa para poder converter para inteiro\n",
    "    \n",
    "    dicionario = {\"serie\": nome_serie, \"temporada\": temporada, \"episodio\": episodio, \"nota\": float(nota), \"votos\": int(votos)}\n",
    "    planilha.append(dicionario)\n",
    "    \n",
    "print(planilha)"
   ]
  },
  {
   "cell_type": "code",
   "execution_count": 55,
   "metadata": {},
   "outputs": [
    {
     "data": {
      "text/html": [
       "<div>\n",
       "<style scoped>\n",
       "    .dataframe tbody tr th:only-of-type {\n",
       "        vertical-align: middle;\n",
       "    }\n",
       "\n",
       "    .dataframe tbody tr th {\n",
       "        vertical-align: top;\n",
       "    }\n",
       "\n",
       "    .dataframe thead th {\n",
       "        text-align: right;\n",
       "    }\n",
       "</style>\n",
       "<table border=\"1\" class=\"dataframe\">\n",
       "  <thead>\n",
       "    <tr style=\"text-align: right;\">\n",
       "      <th></th>\n",
       "      <th>episodio</th>\n",
       "      <th>nota</th>\n",
       "      <th>serie</th>\n",
       "      <th>temporada</th>\n",
       "      <th>votos</th>\n",
       "    </tr>\n",
       "  </thead>\n",
       "  <tbody>\n",
       "    <tr>\n",
       "      <th>3</th>\n",
       "      <td>4</td>\n",
       "      <td>9.3</td>\n",
       "      <td>Euphoria</td>\n",
       "      <td>1</td>\n",
       "      <td>1673</td>\n",
       "    </tr>\n",
       "    <tr>\n",
       "      <th>6</th>\n",
       "      <td>7</td>\n",
       "      <td>9.0</td>\n",
       "      <td>Euphoria</td>\n",
       "      <td>1</td>\n",
       "      <td>1102</td>\n",
       "    </tr>\n",
       "    <tr>\n",
       "      <th>7</th>\n",
       "      <td>8</td>\n",
       "      <td>8.9</td>\n",
       "      <td>Euphoria</td>\n",
       "      <td>1</td>\n",
       "      <td>1166</td>\n",
       "    </tr>\n",
       "    <tr>\n",
       "      <th>2</th>\n",
       "      <td>3</td>\n",
       "      <td>8.7</td>\n",
       "      <td>Euphoria</td>\n",
       "      <td>1</td>\n",
       "      <td>1365</td>\n",
       "    </tr>\n",
       "    <tr>\n",
       "      <th>5</th>\n",
       "      <td>6</td>\n",
       "      <td>8.6</td>\n",
       "      <td>Euphoria</td>\n",
       "      <td>1</td>\n",
       "      <td>1026</td>\n",
       "    </tr>\n",
       "    <tr>\n",
       "      <th>4</th>\n",
       "      <td>5</td>\n",
       "      <td>8.5</td>\n",
       "      <td>Euphoria</td>\n",
       "      <td>1</td>\n",
       "      <td>1078</td>\n",
       "    </tr>\n",
       "    <tr>\n",
       "      <th>1</th>\n",
       "      <td>2</td>\n",
       "      <td>8.4</td>\n",
       "      <td>Euphoria</td>\n",
       "      <td>1</td>\n",
       "      <td>1537</td>\n",
       "    </tr>\n",
       "    <tr>\n",
       "      <th>0</th>\n",
       "      <td>1</td>\n",
       "      <td>8.3</td>\n",
       "      <td>Euphoria</td>\n",
       "      <td>1</td>\n",
       "      <td>2073</td>\n",
       "    </tr>\n",
       "  </tbody>\n",
       "</table>\n",
       "</div>"
      ],
      "text/plain": [
       "  episodio  nota     serie temporada  votos\n",
       "3        4   9.3  Euphoria         1   1673\n",
       "6        7   9.0  Euphoria         1   1102\n",
       "7        8   8.9  Euphoria         1   1166\n",
       "2        3   8.7  Euphoria         1   1365\n",
       "5        6   8.6  Euphoria         1   1026\n",
       "4        5   8.5  Euphoria         1   1078\n",
       "1        2   8.4  Euphoria         1   1537\n",
       "0        1   8.3  Euphoria         1   2073"
      ]
     },
     "execution_count": 55,
     "metadata": {},
     "output_type": "execute_result"
    }
   ],
   "source": [
    "import pandas\n",
    "\n",
    "df = pandas.DataFrame(planilha)\n",
    "df.to_csv(\"euphoria.csv\", sep = \";\", encoding = \"utf-8\")\n",
    "df.sort_values(by = \"nota\", ascending = False)"
   ]
  },
  {
   "cell_type": "code",
   "execution_count": 56,
   "metadata": {},
   "outputs": [
    {
     "data": {
      "text/plain": [
       "<matplotlib.axes._subplots.AxesSubplot at 0x7495790>"
      ]
     },
     "execution_count": 56,
     "metadata": {},
     "output_type": "execute_result"
    },
    {
     "data": {
      "image/png": "[encoded data removed]",
      "text/plain": [
       "<Figure size 432x288 with 1 Axes>"
      ]
     },
     "metadata": {},
     "output_type": "display_data"
    }
   ],
   "source": [
    "%matplotlib inline\n",
    "import matplotlib.pyplot as plt\n",
    "\n",
    "df.plot.bar()"
   ]
  },
  {
   "cell_type": "code",
   "execution_count": 57,
   "metadata": {},
   "outputs": [
    {
     "data": {
      "text/plain": [
       "<matplotlib.axes._subplots.AxesSubplot at 0x76cd250>"
      ]
     },
     "execution_count": 57,
     "metadata": {},
     "output_type": "execute_result"
    },
    {
     "data": {
      "image/png": "[encoded data removed]",
      "text/plain": [
       "<Figure size 432x288 with 1 Axes>"
      ]
     },
     "metadata": {},
     "output_type": "display_data"
    }
   ],
   "source": [
    "agrupamento = df.groupby(\"episodio\")[\"nota\"].mean()\n",
    "agrupamento.plot.bar()"
   ]
  },
  {
   "cell_type": "code",
   "execution_count": null,
   "metadata": {},
   "outputs": [],
   "source": []
  }
 ],
 "metadata": {
  "kernelspec": {
   "display_name": "Python 3",
   "language": "python",
   "name": "python3"
  },
  "language_info": {
   "codemirror_mode": {
    "name": "ipython",
    "version": 3
   },
   "file_extension": ".py",
   "mimetype": "text/x-python",
   "name": "python",
   "nbconvert_exporter": "python",
   "pygments_lexer": "ipython3",
   "version": "3.6.4"
  }
 },
 "nbformat": 4,
 "nbformat_minor": 2
}
