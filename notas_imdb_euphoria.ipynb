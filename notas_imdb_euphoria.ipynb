{
 "cells": [
  {
   "cell_type": "code",
   "execution_count": 8,
   "metadata": {},
   "outputs": [
    {
     "name": "stdout",
     "output_type": "stream",
     "text": [
      "[{'serie': 'Euphoria', 'temporada': '1', 'episodio': ' 1', 'nome_episodio': 'Pilot', 'nota': 8.3, 'votos': 2093}, {'serie': 'Euphoria', 'temporada': '1', 'episodio': ' 2', 'nome_episodio': \"Stuntin' Like My Daddy\", 'nota': 8.4, 'votos': 1557}, {'serie': 'Euphoria', 'temporada': '1', 'episodio': ' 3', 'nome_episodio': 'Made You Look', 'nota': 8.7, 'votos': 1391}, {'serie': 'Euphoria', 'temporada': '1', 'episodio': ' 4', 'nome_episodio': 'Shook One: Pt II', 'nota': 9.3, 'votos': 1701}, {'serie': 'Euphoria', 'temporada': '1', 'episodio': ' 5', 'nome_episodio': \"'03 Bonnie and Clyde\", 'nota': 8.5, 'votos': 1097}, {'serie': 'Euphoria', 'temporada': '1', 'episodio': ' 6', 'nome_episodio': 'The Next Episode', 'nota': 8.6, 'votos': 1045}, {'serie': 'Euphoria', 'temporada': '1', 'episodio': ' 7', 'nome_episodio': 'The Trials and Tribulations of Trying to Pee While Depressed', 'nota': 9.0, 'votos': 1122}, {'serie': 'Euphoria', 'temporada': '1', 'episodio': ' 8', 'nome_episodio': 'And Salt the Earth Behind You', 'nota': 8.9, 'votos': 1205}]\n"
     ]
    }
   ],
   "source": [
    "import requests\n",
    "from bs4 import BeautifulSoup\n",
    "\n",
    "planilha = []\n",
    "\n",
    "links_episodios = [\"https://www.imdb.com/title/tt8135530/?ref_=ttep_ep1\",\n",
    "                   \"https://www.imdb.com/title/tt8806264/?ref_=ttep_ep2\",\n",
    "                   \"https://www.imdb.com/title/tt8806262/?ref_=ttep_ep3\",\n",
    "                   \"https://www.imdb.com/title/tt8806266/?ref_=ttep_ep4\",\n",
    "                   \"https://www.imdb.com/title/tt8806268/?ref_=ttep_ep5\",\n",
    "                   \"https://www.imdb.com/title/tt8806274/?ref_=ttep_ep6\",\n",
    "                   \"https://www.imdb.com/title/tt8806270/?ref_=ttep_ep7\",\n",
    "                   \"https://www.imdb.com/title/tt8806272/?ref_=ttep_ep8\"]\n",
    "\n",
    "for link in links_episodios: # Pega cada link da lista de links para fazer a requisição\n",
    "    requisicao = requests.get(link)\n",
    "\n",
    "    sopa = BeautifulSoup(requisicao.content, \"html.parser\") # Dados brutos da página inteira\n",
    "    \n",
    "    # Conjunto que acha o nome da série\n",
    "    acha_nome = sopa.find(\"div\", {\"class\": \"titleParent\"})\n",
    "    nome_serie = acha_nome.find(\"a\").text\n",
    "\n",
    "    # Conjunto que acha a temporada e o número do episódio\n",
    "    acha_temp_episodio = sopa.find(\"div\", {\"class\": \"bp_description\"})\n",
    "    temp_episodio = acha_temp_episodio.find(\"div\", {\"class\": \"bp_heading\"}).text.strip() # Temporada e episódio dentro da mesma tag separados por |\n",
    "    lista = temp_episodio.split(\" | \") # Comando split e cria uma lista com os dois itens\n",
    "    temporada = lista[0] # Primeiro item da lista corresponde à temporada\n",
    "    episodio = lista[1] # Segundo item da lista corresponde ao episódio\n",
    "    temporada = temporada.replace(\"Season \", \"\") # Limpa para deixar só o número\n",
    "    episodio = episodio.replace(\"Episode\", \"\") # Limpa para deixar só o número\n",
    "    \n",
    "    # Conjunto que acha o nome do episódio\n",
    "    acha_nome_episodio = sopa.find(\"div\", {\"class\": \"title_wrapper\"}) # Div com o nome do episódio\n",
    "    nome_episodio = acha_nome_episodio.find(\"h1\").text.strip() # Limpa só o nome do episódio\n",
    "\n",
    "    # Conjunto que acha a avaliação do episódio\n",
    "    avaliacao = sopa.find(\"div\", {\"class\": \"imdbRating\"})\n",
    "    nota = avaliacao.find(\"span\", {\"itemprop\": \"ratingValue\"}).text.strip()\n",
    "    votos = avaliacao.find(\"span\", {\"itemprop\": \"ratingCount\"}).text.strip()\n",
    "    votos = votos.replace(\",\", \"\") # Limpa para poder converter para inteiro\n",
    "    \n",
    "    dicionario = {\"serie\": nome_serie, \"temporada\": temporada, \"episodio\": episodio, \"nome_episodio\": nome_episodio, \"nota\": float(nota), \"votos\": int(votos)} # Monta o dicionário\n",
    "    planilha.append(dicionario) # Adiciona planilha ao dicionário\n",
    "    \n",
    "print(planilha)"
   ]
  },
  {
   "cell_type": "code",
   "execution_count": 9,
   "metadata": {},
   "outputs": [
    {
     "data": {
      "text/html": [
       "<div>\n",
       "<style scoped>\n",
       "    .dataframe tbody tr th:only-of-type {\n",
       "        vertical-align: middle;\n",
       "    }\n",
       "\n",
       "    .dataframe tbody tr th {\n",
       "        vertical-align: top;\n",
       "    }\n",
       "\n",
       "    .dataframe thead th {\n",
       "        text-align: right;\n",
       "    }\n",
       "</style>\n",
       "<table border=\"1\" class=\"dataframe\">\n",
       "  <thead>\n",
       "    <tr style=\"text-align: right;\">\n",
       "      <th></th>\n",
       "      <th>episodio</th>\n",
       "      <th>nome_episodio</th>\n",
       "      <th>nota</th>\n",
       "      <th>serie</th>\n",
       "      <th>temporada</th>\n",
       "      <th>votos</th>\n",
       "    </tr>\n",
       "  </thead>\n",
       "  <tbody>\n",
       "    <tr>\n",
       "      <th>3</th>\n",
       "      <td>4</td>\n",
       "      <td>Shook One: Pt II</td>\n",
       "      <td>9.3</td>\n",
       "      <td>Euphoria</td>\n",
       "      <td>1</td>\n",
       "      <td>1701</td>\n",
       "    </tr>\n",
       "    <tr>\n",
       "      <th>6</th>\n",
       "      <td>7</td>\n",
       "      <td>The Trials and Tribulations of Trying to Pee W...</td>\n",
       "      <td>9.0</td>\n",
       "      <td>Euphoria</td>\n",
       "      <td>1</td>\n",
       "      <td>1122</td>\n",
       "    </tr>\n",
       "    <tr>\n",
       "      <th>7</th>\n",
       "      <td>8</td>\n",
       "      <td>And Salt the Earth Behind You</td>\n",
       "      <td>8.9</td>\n",
       "      <td>Euphoria</td>\n",
       "      <td>1</td>\n",
       "      <td>1205</td>\n",
       "    </tr>\n",
       "    <tr>\n",
       "      <th>2</th>\n",
       "      <td>3</td>\n",
       "      <td>Made You Look</td>\n",
       "      <td>8.7</td>\n",
       "      <td>Euphoria</td>\n",
       "      <td>1</td>\n",
       "      <td>1391</td>\n",
       "    </tr>\n",
       "    <tr>\n",
       "      <th>5</th>\n",
       "      <td>6</td>\n",
       "      <td>The Next Episode</td>\n",
       "      <td>8.6</td>\n",
       "      <td>Euphoria</td>\n",
       "      <td>1</td>\n",
       "      <td>1045</td>\n",
       "    </tr>\n",
       "    <tr>\n",
       "      <th>4</th>\n",
       "      <td>5</td>\n",
       "      <td>'03 Bonnie and Clyde</td>\n",
       "      <td>8.5</td>\n",
       "      <td>Euphoria</td>\n",
       "      <td>1</td>\n",
       "      <td>1097</td>\n",
       "    </tr>\n",
       "    <tr>\n",
       "      <th>1</th>\n",
       "      <td>2</td>\n",
       "      <td>Stuntin' Like My Daddy</td>\n",
       "      <td>8.4</td>\n",
       "      <td>Euphoria</td>\n",
       "      <td>1</td>\n",
       "      <td>1557</td>\n",
       "    </tr>\n",
       "    <tr>\n",
       "      <th>0</th>\n",
       "      <td>1</td>\n",
       "      <td>Pilot</td>\n",
       "      <td>8.3</td>\n",
       "      <td>Euphoria</td>\n",
       "      <td>1</td>\n",
       "      <td>2093</td>\n",
       "    </tr>\n",
       "  </tbody>\n",
       "</table>\n",
       "</div>"
      ],
      "text/plain": [
       "  episodio                                      nome_episodio  nota     serie  \\\n",
       "3        4                                   Shook One: Pt II   9.3  Euphoria   \n",
       "6        7  The Trials and Tribulations of Trying to Pee W...   9.0  Euphoria   \n",
       "7        8                      And Salt the Earth Behind You   8.9  Euphoria   \n",
       "2        3                                      Made You Look   8.7  Euphoria   \n",
       "5        6                                   The Next Episode   8.6  Euphoria   \n",
       "4        5                               '03 Bonnie and Clyde   8.5  Euphoria   \n",
       "1        2                             Stuntin' Like My Daddy   8.4  Euphoria   \n",
       "0        1                                              Pilot   8.3  Euphoria   \n",
       "\n",
       "  temporada  votos  \n",
       "3         1   1701  \n",
       "6         1   1122  \n",
       "7         1   1205  \n",
       "2         1   1391  \n",
       "5         1   1045  \n",
       "4         1   1097  \n",
       "1         1   1557  \n",
       "0         1   2093  "
      ]
     },
     "execution_count": 9,
     "metadata": {},
     "output_type": "execute_result"
    }
   ],
   "source": [
    "import pandas\n",
    "\n",
    "df = pandas.DataFrame(planilha)\n",
    "df.to_csv(\"euphoria.csv\", sep = \";\", encoding = \"utf-8\")\n",
    "df.sort_values(by = \"nota\", ascending = False)"
   ]
  },
  {
   "cell_type": "code",
   "execution_count": 10,
   "metadata": {},
   "outputs": [
    {
     "data": {
      "text/plain": [
       "<matplotlib.axes._subplots.AxesSubplot at 0xcc1f1f0>"
      ]
     },
     "execution_count": 10,
     "metadata": {},
     "output_type": "execute_result"
    },
    {
     "data": {
      "image/png": "[encoded data removed]",
      "text/plain": [
       "<Figure size 432x288 with 1 Axes>"
      ]
     },
     "metadata": {},
     "output_type": "display_data"
    }
   ],
   "source": [
    "%matplotlib inline\n",
    "import matplotlib.pyplot as plt\n",
    "\n",
    "agrupamento1 = df.groupby(\"nome_episodio\")[\"votos\"].sum()\n",
    "agrupamento1.plot.bar()"
   ]
  },
  {
   "cell_type": "code",
   "execution_count": 11,
   "metadata": {},
   "outputs": [
    {
     "data": {
      "text/plain": [
       "<matplotlib.axes._subplots.AxesSubplot at 0x1a51830>"
      ]
     },
     "execution_count": 11,
     "metadata": {},
     "output_type": "execute_result"
    },
    {
     "data": {
      "image/png": "[encoded data removed]",
      "text/plain": [
       "<Figure size 432x288 with 1 Axes>"
      ]
     },
     "metadata": {},
     "output_type": "display_data"
    }
   ],
   "source": [
    "agrupamento2 = df.groupby(\"nome_episodio\")[\"nota\"].mean()\n",
    "agrupamento2.plot.bar()"
   ]
  },
  {
   "cell_type": "code",
   "execution_count": null,
   "metadata": {},
   "outputs": [],
   "source": []
  }
 ],
 "metadata": {
  "kernelspec": {
   "display_name": "Python 3",
   "language": "python",
   "name": "python3"
  },
  "language_info": {
   "codemirror_mode": {
    "name": "ipython",
    "version": 3
   },
   "file_extension": ".py",
   "mimetype": "text/x-python",
   "name": "python",
   "nbconvert_exporter": "python",
   "pygments_lexer": "ipython3",
   "version": "3.6.4"
  }
 },
 "nbformat": 4,
 "nbformat_minor": 2
}
