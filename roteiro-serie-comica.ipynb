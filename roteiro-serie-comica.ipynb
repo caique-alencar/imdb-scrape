{
 "cells": [
  {
   "cell_type": "code",
   "execution_count": 1,
   "metadata": {},
   "outputs": [
    {
     "name": "stdout",
     "output_type": "stream",
     "text": [
      "[{'serie': 'Barry', 'temporada': '2', 'episodio': ' 5', 'nome_episodio': 'ronny/lily', 'nota': 9.8, 'votos': 3895}, {'serie': 'Fleabag', 'temporada': '2', 'episodio': ' 1', 'nome_episodio': 'Episode #2.1', 'nota': 9.4, 'votos': 1353}, {'serie': 'O Bom Lugar', 'temporada': '3', 'episodio': ' 9', 'nome_episodio': 'Janet(s)', 'nota': 9.2, 'votos': 1413}, {'serie': 'PEN15', 'temporada': '1', 'episodio': ' 9', 'nome_episodio': 'Anna Ishii-Peters', 'nota': 8.3, 'votos': 74}, {'serie': 'Boneca Russa', 'temporada': '1', 'episodio': ' 1', 'nome_episodio': 'Nothing in This World Is Easy', 'nota': 7.2, 'votos': 1645}, {'serie': 'Boneca Russa', 'temporada': '1', 'episodio': ' 3', 'nome_episodio': 'A Warm Body', 'nota': 7.6, 'votos': 1281}, {'serie': 'Vice', 'temporada': '7', 'episodio': ' 7', 'nome_episodio': 'Veep', 'nota': 9.5, 'votos': 1108}]\n"
     ]
    }
   ],
   "source": [
    "# Melhor Roteiro em Série Cômica\n",
    "\n",
    "import requests\n",
    "from bs4 import BeautifulSoup\n",
    "\n",
    "planilha = []\n",
    "\n",
    "links_episodios = [\"https://www.imdb.com/title/tt8956332/?ref_=ttep_ep5\",\n",
    "                   \"https://www.imdb.com/title/tt6733136/?ref_=ttep_ep1\",\n",
    "                   \"https://www.imdb.com/title/tt8578788/?ref_=ttep_ep9\",\n",
    "                   \"https://www.imdb.com/title/tt8820740/?ref_=ttep_ep9\",\n",
    "                   \"https://www.imdb.com/title/tt7526214/?ref_=ttep_ep1\",\n",
    "                   \"https://www.imdb.com/title/tt8709138/?ref_=ttep_ep3\",\n",
    "                   \"https://www.imdb.com/title/tt7870762/?ref_=ttep_ep7\"]\n",
    "\n",
    "for link in links_episodios: # Pega cada link da lista de links para fazer a requisição\n",
    "    requisicao = requests.get(link)\n",
    "\n",
    "    sopa = BeautifulSoup(requisicao.content, \"html.parser\") # Dados brutos da página inteira\n",
    "    \n",
    "    # Conjunto que acha o nome da série\n",
    "    acha_nome = sopa.find(\"div\", {\"class\": \"titleParent\"})\n",
    "    nome_serie = acha_nome.find(\"a\").text\n",
    "\n",
    "    # Conjunto que acha a temporada e o número do episódio\n",
    "    acha_temp_episodio = sopa.find(\"div\", {\"class\": \"bp_description\"})\n",
    "    temp_episodio = acha_temp_episodio.find(\"div\", {\"class\": \"bp_heading\"}).text.strip() # Temporada e episódio dentro da mesma tag separados por |\n",
    "    lista = temp_episodio.split(\" | \") # Comando split e cria uma lista com os dois itens\n",
    "    temporada = lista[0] # Primeiro item da lista corresponde à temporada\n",
    "    episodio = lista[1] # Segundo item da lista corresponde ao episódio\n",
    "    temporada = temporada.replace(\"Season \", \"\") # Limpa para deixar só o número\n",
    "    episodio = episodio.replace(\"Episode\", \"\") # Limpa para deixar só o número\n",
    "    \n",
    "    # Conjunto que acha o nome do episódio\n",
    "    acha_nome_episodio = sopa.find(\"div\", {\"class\": \"title_wrapper\"}) # Div com o nome do episódio\n",
    "    nome_episodio = acha_nome_episodio.find(\"h1\").text.strip() # Limpa só o nome do episódio\n",
    "\n",
    "    # Conjunto que acha a avaliação do episódio\n",
    "    avaliacao = sopa.find(\"div\", {\"class\": \"imdbRating\"})\n",
    "    nota = avaliacao.find(\"span\", {\"itemprop\": \"ratingValue\"}).text.strip()\n",
    "    votos = avaliacao.find(\"span\", {\"itemprop\": \"ratingCount\"}).text.strip()\n",
    "    votos = votos.replace(\",\", \"\") # Limpa para poder converter para inteiro\n",
    "    \n",
    "    dicionario = {\"serie\": nome_serie, \"temporada\": temporada, \"episodio\": episodio, \"nome_episodio\": nome_episodio, \"nota\": float(nota), \"votos\": int(votos)} # Monta o dicionário\n",
    "    planilha.append(dicionario) # Adiciona planilha ao dicionário\n",
    "    \n",
    "print(planilha)"
   ]
  },
  {
   "cell_type": "code",
   "execution_count": 2,
   "metadata": {},
   "outputs": [
    {
     "data": {
      "text/html": [
       "<div>\n",
       "<style scoped>\n",
       "    .dataframe tbody tr th:only-of-type {\n",
       "        vertical-align: middle;\n",
       "    }\n",
       "\n",
       "    .dataframe tbody tr th {\n",
       "        vertical-align: top;\n",
       "    }\n",
       "\n",
       "    .dataframe thead th {\n",
       "        text-align: right;\n",
       "    }\n",
       "</style>\n",
       "<table border=\"1\" class=\"dataframe\">\n",
       "  <thead>\n",
       "    <tr style=\"text-align: right;\">\n",
       "      <th></th>\n",
       "      <th>episodio</th>\n",
       "      <th>nome_episodio</th>\n",
       "      <th>nota</th>\n",
       "      <th>serie</th>\n",
       "      <th>temporada</th>\n",
       "      <th>votos</th>\n",
       "    </tr>\n",
       "  </thead>\n",
       "  <tbody>\n",
       "    <tr>\n",
       "      <th>0</th>\n",
       "      <td>5</td>\n",
       "      <td>ronny/lily</td>\n",
       "      <td>9.8</td>\n",
       "      <td>Barry</td>\n",
       "      <td>2</td>\n",
       "      <td>3895</td>\n",
       "    </tr>\n",
       "    <tr>\n",
       "      <th>6</th>\n",
       "      <td>7</td>\n",
       "      <td>Veep</td>\n",
       "      <td>9.5</td>\n",
       "      <td>Vice</td>\n",
       "      <td>7</td>\n",
       "      <td>1108</td>\n",
       "    </tr>\n",
       "    <tr>\n",
       "      <th>1</th>\n",
       "      <td>1</td>\n",
       "      <td>Episode #2.1</td>\n",
       "      <td>9.4</td>\n",
       "      <td>Fleabag</td>\n",
       "      <td>2</td>\n",
       "      <td>1353</td>\n",
       "    </tr>\n",
       "    <tr>\n",
       "      <th>2</th>\n",
       "      <td>9</td>\n",
       "      <td>Janet(s)</td>\n",
       "      <td>9.2</td>\n",
       "      <td>O Bom Lugar</td>\n",
       "      <td>3</td>\n",
       "      <td>1413</td>\n",
       "    </tr>\n",
       "    <tr>\n",
       "      <th>3</th>\n",
       "      <td>9</td>\n",
       "      <td>Anna Ishii-Peters</td>\n",
       "      <td>8.3</td>\n",
       "      <td>PEN15</td>\n",
       "      <td>1</td>\n",
       "      <td>74</td>\n",
       "    </tr>\n",
       "    <tr>\n",
       "      <th>5</th>\n",
       "      <td>3</td>\n",
       "      <td>A Warm Body</td>\n",
       "      <td>7.6</td>\n",
       "      <td>Boneca Russa</td>\n",
       "      <td>1</td>\n",
       "      <td>1281</td>\n",
       "    </tr>\n",
       "    <tr>\n",
       "      <th>4</th>\n",
       "      <td>1</td>\n",
       "      <td>Nothing in This World Is Easy</td>\n",
       "      <td>7.2</td>\n",
       "      <td>Boneca Russa</td>\n",
       "      <td>1</td>\n",
       "      <td>1645</td>\n",
       "    </tr>\n",
       "  </tbody>\n",
       "</table>\n",
       "</div>"
      ],
      "text/plain": [
       "  episodio                  nome_episodio  nota         serie temporada  votos\n",
       "0        5                     ronny/lily   9.8         Barry         2   3895\n",
       "6        7                           Veep   9.5          Vice         7   1108\n",
       "1        1                   Episode #2.1   9.4       Fleabag         2   1353\n",
       "2        9                       Janet(s)   9.2   O Bom Lugar         3   1413\n",
       "3        9              Anna Ishii-Peters   8.3         PEN15         1     74\n",
       "5        3                    A Warm Body   7.6  Boneca Russa         1   1281\n",
       "4        1  Nothing in This World Is Easy   7.2  Boneca Russa         1   1645"
      ]
     },
     "execution_count": 2,
     "metadata": {},
     "output_type": "execute_result"
    }
   ],
   "source": [
    "import pandas\n",
    "\n",
    "df = pandas.DataFrame(planilha)\n",
    "df.to_csv(\"roteiro-serie_comica.csv\", sep = \";\", encoding = \"utf-8\")\n",
    "df.sort_values(by = \"nota\", ascending = False)"
   ]
  },
  {
   "cell_type": "code",
   "execution_count": 3,
   "metadata": {},
   "outputs": [
    {
     "data": {
      "text/plain": [
       "<matplotlib.axes._subplots.AxesSubplot at 0xc5802b0>"
      ]
     },
     "execution_count": 3,
     "metadata": {},
     "output_type": "execute_result"
    },
    {
     "data": {
      "image/png": "[encoded data removed]",
      "text/plain": [
       "<Figure size 432x288 with 1 Axes>"
      ]
     },
     "metadata": {},
     "output_type": "display_data"
    }
   ],
   "source": [
    "%matplotlib inline\n",
    "import matplotlib.pyplot as plt\n",
    "\n",
    "agrupamento1 = df.groupby(\"nome_episodio\")[\"votos\"].sum()\n",
    "agrupamento1.plot.bar()"
   ]
  },
  {
   "cell_type": "code",
   "execution_count": 4,
   "metadata": {},
   "outputs": [
    {
     "data": {
      "text/plain": [
       "<matplotlib.axes._subplots.AxesSubplot at 0xd5e4510>"
      ]
     },
     "execution_count": 4,
     "metadata": {},
     "output_type": "execute_result"
    },
    {
     "data": {
      "image/png": "[encoded data removed]",
      "text/plain": [
       "<Figure size 432x288 with 1 Axes>"
      ]
     },
     "metadata": {},
     "output_type": "display_data"
    }
   ],
   "source": [
    "agrupamento2 = df.groupby(\"nome_episodio\")[\"nota\"].mean()\n",
    "agrupamento2.plot.bar()"
   ]
  },
  {
   "cell_type": "code",
   "execution_count": null,
   "metadata": {},
   "outputs": [],
   "source": []
  }
 ],
 "metadata": {
  "kernelspec": {
   "display_name": "Python 3",
   "language": "python",
   "name": "python3"
  },
  "language_info": {
   "codemirror_mode": {
    "name": "ipython",
    "version": 3
   },
   "file_extension": ".py",
   "mimetype": "text/x-python",
   "name": "python",
   "nbconvert_exporter": "python",
   "pygments_lexer": "ipython3",
   "version": "3.6.4"
  }
 },
 "nbformat": 4,
 "nbformat_minor": 2
}
