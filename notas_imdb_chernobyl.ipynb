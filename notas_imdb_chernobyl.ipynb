{
 "cells": [
  {
   "cell_type": "code",
   "execution_count": 1,
   "metadata": {},
   "outputs": [
    {
     "name": "stdout",
     "output_type": "stream",
     "text": [
      "[{'serie': 'Chernobyl', 'temporada': '1', 'episodio': ' 1', 'nota': 9.5, 'votos': 42644}, {'serie': 'Chernobyl', 'temporada': '1', 'episodio': ' 2', 'nota': 9.7, 'votos': 40300}, {'serie': 'Chernobyl', 'temporada': '1', 'episodio': ' 3', 'nota': 9.6, 'votos': 37747}, {'serie': 'Chernobyl', 'temporada': '1', 'episodio': ' 4', 'nota': 9.5, 'votos': 35323}, {'serie': 'Chernobyl', 'temporada': '1', 'episodio': ' 5', 'nota': 9.9, 'votos': 45621}]\n"
     ]
    }
   ],
   "source": [
    "import requests\n",
    "from bs4 import BeautifulSoup\n",
    "\n",
    "planilha = []\n",
    "\n",
    "links_episodios = [\"https://www.imdb.com/title/tt8162428/?ref_=ttep_ep1\",\n",
    "                   \"https://www.imdb.com/title/tt8482972/?ref_=ttep_ep2\",\n",
    "                   \"https://www.imdb.com/title/tt9166672/?ref_=ttep_ep3\",\n",
    "                   \"https://www.imdb.com/title/tt9166678/?ref_=ttep_ep4\",\n",
    "                   \"https://www.imdb.com/title/tt9166696/?ref_=ttep_ep5\"]\n",
    "\n",
    "for link in links_episodios: # Pega cada link da lista de links para fazer a requisição\n",
    "    requisicao = requests.get(link)\n",
    "\n",
    "    sopa = BeautifulSoup(requisicao.content, \"html.parser\") # Dados brutos da página inteira\n",
    "    \n",
    "    # Conjunto que acha o nome da série\n",
    "    acha_nome = sopa.find(\"div\", {\"class\": \"titleParent\"})\n",
    "    nome_serie = acha_nome.find(\"a\").text\n",
    "\n",
    "    # Conjunto que acha a temporada e o número do episódio\n",
    "    acha_temp_episodio = sopa.find(\"div\", {\"class\": \"bp_description\"})\n",
    "    temp_episodio = acha_temp_episodio.find(\"div\", {\"class\": \"bp_heading\"}).text.strip() # Temporada e episódio dentro da mesma tag separados por |\n",
    "    lista = temp_episodio.split(\" | \") # Comando split e cria uma lista com os dois itens\n",
    "    temporada = lista[0] # Primeiro item da lista corresponde à temporada\n",
    "    episodio = lista[1] # Segundo item da lista corresponde ao episódio\n",
    "    temporada = temporada.replace(\"Season \", \"\") # Limpa para deixar só o número\n",
    "    episodio = episodio.replace(\"Episode\", \"\") # Limpa para deixar só o número\n",
    "\n",
    "    # Conjunto que acha a avaliação do episódio\n",
    "    avaliacao = sopa.find(\"div\", {\"class\": \"imdbRating\"})\n",
    "    nota = avaliacao.find(\"span\", {\"itemprop\": \"ratingValue\"}).text.strip()\n",
    "    votos = avaliacao.find(\"span\", {\"itemprop\": \"ratingCount\"}).text.strip()\n",
    "    votos = votos.replace(\",\", \"\") # Limpa para poder converter para inteiro\n",
    "    \n",
    "    dicionario = {\"serie\": nome_serie, \"temporada\": temporada, \"episodio\": episodio, \"nota\": float(nota), \"votos\": int(votos)} # Monta o dicionário\n",
    "    planilha.append(dicionario) # Adiciona planilha ao dicionário\n",
    "    \n",
    "print(planilha)"
   ]
  },
  {
   "cell_type": "code",
   "execution_count": 2,
   "metadata": {},
   "outputs": [
    {
     "data": {
      "text/html": [
       "<div>\n",
       "<style scoped>\n",
       "    .dataframe tbody tr th:only-of-type {\n",
       "        vertical-align: middle;\n",
       "    }\n",
       "\n",
       "    .dataframe tbody tr th {\n",
       "        vertical-align: top;\n",
       "    }\n",
       "\n",
       "    .dataframe thead th {\n",
       "        text-align: right;\n",
       "    }\n",
       "</style>\n",
       "<table border=\"1\" class=\"dataframe\">\n",
       "  <thead>\n",
       "    <tr style=\"text-align: right;\">\n",
       "      <th></th>\n",
       "      <th>episodio</th>\n",
       "      <th>nota</th>\n",
       "      <th>serie</th>\n",
       "      <th>temporada</th>\n",
       "      <th>votos</th>\n",
       "    </tr>\n",
       "  </thead>\n",
       "  <tbody>\n",
       "    <tr>\n",
       "      <th>4</th>\n",
       "      <td>5</td>\n",
       "      <td>9.9</td>\n",
       "      <td>Chernobyl</td>\n",
       "      <td>1</td>\n",
       "      <td>45621</td>\n",
       "    </tr>\n",
       "    <tr>\n",
       "      <th>1</th>\n",
       "      <td>2</td>\n",
       "      <td>9.7</td>\n",
       "      <td>Chernobyl</td>\n",
       "      <td>1</td>\n",
       "      <td>40300</td>\n",
       "    </tr>\n",
       "    <tr>\n",
       "      <th>2</th>\n",
       "      <td>3</td>\n",
       "      <td>9.6</td>\n",
       "      <td>Chernobyl</td>\n",
       "      <td>1</td>\n",
       "      <td>37747</td>\n",
       "    </tr>\n",
       "    <tr>\n",
       "      <th>0</th>\n",
       "      <td>1</td>\n",
       "      <td>9.5</td>\n",
       "      <td>Chernobyl</td>\n",
       "      <td>1</td>\n",
       "      <td>42644</td>\n",
       "    </tr>\n",
       "    <tr>\n",
       "      <th>3</th>\n",
       "      <td>4</td>\n",
       "      <td>9.5</td>\n",
       "      <td>Chernobyl</td>\n",
       "      <td>1</td>\n",
       "      <td>35323</td>\n",
       "    </tr>\n",
       "  </tbody>\n",
       "</table>\n",
       "</div>"
      ],
      "text/plain": [
       "  episodio  nota      serie temporada  votos\n",
       "4        5   9.9  Chernobyl         1  45621\n",
       "1        2   9.7  Chernobyl         1  40300\n",
       "2        3   9.6  Chernobyl         1  37747\n",
       "0        1   9.5  Chernobyl         1  42644\n",
       "3        4   9.5  Chernobyl         1  35323"
      ]
     },
     "execution_count": 2,
     "metadata": {},
     "output_type": "execute_result"
    }
   ],
   "source": [
    "import pandas\n",
    "\n",
    "df = pandas.DataFrame(planilha)\n",
    "df.to_csv(\"chernobyl.csv\", sep = \";\", encoding = \"utf-8\")\n",
    "df.sort_values(by = \"nota\", ascending = False)"
   ]
  },
  {
   "cell_type": "code",
   "execution_count": 3,
   "metadata": {},
   "outputs": [
    {
     "data": {
      "text/plain": [
       "<matplotlib.axes._subplots.AxesSubplot at 0xcb00a10>"
      ]
     },
     "execution_count": 3,
     "metadata": {},
     "output_type": "execute_result"
    },
    {
     "data": {
      "image/png": "[encoded data removed]",
      "text/plain": [
       "<Figure size 432x288 with 1 Axes>"
      ]
     },
     "metadata": {},
     "output_type": "display_data"
    }
   ],
   "source": [
    "%matplotlib inline\n",
    "import matplotlib.pyplot as plt\n",
    "\n",
    "df.plot.bar()"
   ]
  },
  {
   "cell_type": "code",
   "execution_count": 4,
   "metadata": {},
   "outputs": [
    {
     "data": {
      "text/plain": [
       "<matplotlib.axes._subplots.AxesSubplot at 0xdb9fe70>"
      ]
     },
     "execution_count": 4,
     "metadata": {},
     "output_type": "execute_result"
    },
    {
     "data": {
      "image/png": "[encoded data removed]",
      "text/plain": [
       "<Figure size 432x288 with 1 Axes>"
      ]
     },
     "metadata": {},
     "output_type": "display_data"
    }
   ],
   "source": [
    "agrupamento = df.groupby(\"episodio\")[\"nota\"].mean()\n",
    "agrupamento.plot.bar()"
   ]
  },
  {
   "cell_type": "code",
   "execution_count": null,
   "metadata": {},
   "outputs": [],
   "source": []
  }
 ],
 "metadata": {
  "kernelspec": {
   "display_name": "Python 3",
   "language": "python",
   "name": "python3"
  },
  "language_info": {
   "codemirror_mode": {
    "name": "ipython",
    "version": 3
   },
   "file_extension": ".py",
   "mimetype": "text/x-python",
   "name": "python",
   "nbconvert_exporter": "python",
   "pygments_lexer": "ipython3",
   "version": "3.6.4"
  }
 },
 "nbformat": 4,
 "nbformat_minor": 2
}
