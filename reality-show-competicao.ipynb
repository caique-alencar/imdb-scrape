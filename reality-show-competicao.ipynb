{
 "cells": [
  {
   "cell_type": "code",
   "execution_count": 4,
   "metadata": {},
   "outputs": [
    {
     "name": "stdout",
     "output_type": "stream",
     "text": [
      "[{'filme': 'The Amazing Race', 'nota': 7.6, 'votos': 12857}, {'filme': 'American Ninja Warrior', 'nota': 6.9, 'votos': 2774}, {'filme': 'Mandou Bem', 'nota': 7.4, 'votos': 2809}, {'filme': 'RuPaul e a Corrida das Loucas', 'nota': 8.5, 'votos': 11587}, {'filme': 'Top Chef', 'nota': 7.6, 'votos': 5064}, {'filme': 'The Voice', 'nota': 6.5, 'votos': 11028}]\n"
     ]
    }
   ],
   "source": [
    "# Melhor Reality Show de Competição\n",
    "\n",
    "import requests\n",
    "from bs4 import BeautifulSoup\n",
    "\n",
    "planilha = []\n",
    "\n",
    "links_filmes = [\"https://www.imdb.com/title/tt0285335/?ref_=nv_sr_1?ref_=nv_sr_1\",\n",
    "                \"https://www.imdb.com/title/tt1587934/?ref_=fn_al_tt_1\",\n",
    "                \"https://www.imdb.com/title/tt6987788/?ref_=nv_sr_1?ref_=nv_sr_1\",\n",
    "                \"https://www.imdb.com/title/tt1353056/?ref_=nv_sr_1?ref_=nv_sr_1\",\n",
    "                \"https://www.imdb.com/title/tt0765425/?ref_=nv_sr_1?ref_=nv_sr_1\",\n",
    "                \"https://www.imdb.com/title/tt1839337/?ref_=nv_sr_1?ref_=nv_sr_1\"]\n",
    "\n",
    "for link in links_filmes: # Pega cada link da lista de links para fazer a requisição\n",
    "    requisicao = requests.get(link)\n",
    "\n",
    "    sopa = BeautifulSoup(requisicao.content, \"html.parser\") # Dados brutos da página inteira\n",
    "    \n",
    "    # Conjunto que acha o nome do filme\n",
    "    acha_nome_filme = sopa.find(\"div\", {\"class\": \"title_wrapper\"}) # Div com o nome do episódio\n",
    "    nome_filme_sujo = acha_nome_filme.find(\"h1\", {\"class\": \"\"}).text.strip() # Limpa só o nome do episódio\n",
    "    \n",
    "    lista = nome_filme_sujo.split(\"(\")\n",
    "    nome_filme = lista[0]\n",
    "    nome_filme = nome_filme.strip()\n",
    "                            \n",
    "    # Conjunto que acha a avaliação do filme\n",
    "    avaliacao = sopa.find(\"div\", {\"class\": \"imdbRating\"})\n",
    "    nota = avaliacao.find(\"span\", {\"itemprop\": \"ratingValue\"}).text.strip()\n",
    "    votos = avaliacao.find(\"span\", {\"class\": \"small\", \"itemprop\": \"ratingCount\"}).text.strip()\n",
    "    votos = votos.replace(\",\", \"\") # Limpa para poder converter para inteiro\n",
    "    \n",
    "    dicionario = {\"filme\": nome_filme, \"nota\": float(nota), \"votos\": int(votos)} # Monta o dicionário\n",
    "    planilha.append(dicionario) # Adiciona planilha ao dicionário\n",
    "    \n",
    "print(planilha)"
   ]
  },
  {
   "cell_type": "code",
   "execution_count": 5,
   "metadata": {},
   "outputs": [
    {
     "data": {
      "text/html": [
       "<div>\n",
       "<style scoped>\n",
       "    .dataframe tbody tr th:only-of-type {\n",
       "        vertical-align: middle;\n",
       "    }\n",
       "\n",
       "    .dataframe tbody tr th {\n",
       "        vertical-align: top;\n",
       "    }\n",
       "\n",
       "    .dataframe thead th {\n",
       "        text-align: right;\n",
       "    }\n",
       "</style>\n",
       "<table border=\"1\" class=\"dataframe\">\n",
       "  <thead>\n",
       "    <tr style=\"text-align: right;\">\n",
       "      <th></th>\n",
       "      <th>filme</th>\n",
       "      <th>nota</th>\n",
       "      <th>votos</th>\n",
       "    </tr>\n",
       "  </thead>\n",
       "  <tbody>\n",
       "    <tr>\n",
       "      <th>3</th>\n",
       "      <td>RuPaul e a Corrida das Loucas</td>\n",
       "      <td>8.5</td>\n",
       "      <td>11587</td>\n",
       "    </tr>\n",
       "    <tr>\n",
       "      <th>0</th>\n",
       "      <td>The Amazing Race</td>\n",
       "      <td>7.6</td>\n",
       "      <td>12857</td>\n",
       "    </tr>\n",
       "    <tr>\n",
       "      <th>4</th>\n",
       "      <td>Top Chef</td>\n",
       "      <td>7.6</td>\n",
       "      <td>5064</td>\n",
       "    </tr>\n",
       "    <tr>\n",
       "      <th>2</th>\n",
       "      <td>Mandou Bem</td>\n",
       "      <td>7.4</td>\n",
       "      <td>2809</td>\n",
       "    </tr>\n",
       "    <tr>\n",
       "      <th>1</th>\n",
       "      <td>American Ninja Warrior</td>\n",
       "      <td>6.9</td>\n",
       "      <td>2774</td>\n",
       "    </tr>\n",
       "    <tr>\n",
       "      <th>5</th>\n",
       "      <td>The Voice</td>\n",
       "      <td>6.5</td>\n",
       "      <td>11028</td>\n",
       "    </tr>\n",
       "  </tbody>\n",
       "</table>\n",
       "</div>"
      ],
      "text/plain": [
       "                           filme  nota  votos\n",
       "3  RuPaul e a Corrida das Loucas   8.5  11587\n",
       "0               The Amazing Race   7.6  12857\n",
       "4                       Top Chef   7.6   5064\n",
       "2                     Mandou Bem   7.4   2809\n",
       "1         American Ninja Warrior   6.9   2774\n",
       "5                      The Voice   6.5  11028"
      ]
     },
     "execution_count": 5,
     "metadata": {},
     "output_type": "execute_result"
    }
   ],
   "source": [
    "import pandas\n",
    "\n",
    "df = pandas.DataFrame(planilha)\n",
    "df.to_csv(\"reality-show-competicao.csv\", sep = \";\", encoding = \"utf-8\")\n",
    "df.sort_values(by = \"nota\", ascending = False)"
   ]
  },
  {
   "cell_type": "code",
   "execution_count": 6,
   "metadata": {},
   "outputs": [
    {
     "data": {
      "text/plain": [
       "<matplotlib.axes._subplots.AxesSubplot at 0xc8045b0>"
      ]
     },
     "execution_count": 6,
     "metadata": {},
     "output_type": "execute_result"
    },
    {
     "data": {
      "image/png": "[encoded data removed]",
      "text/plain": [
       "<Figure size 432x288 with 1 Axes>"
      ]
     },
     "metadata": {},
     "output_type": "display_data"
    }
   ],
   "source": [
    "%matplotlib inline\n",
    "import matplotlib.pyplot as plt\n",
    "\n",
    "agrupamento1 = df.groupby(\"filme\")[\"votos\"].sum()\n",
    "agrupamento1.plot.bar()"
   ]
  },
  {
   "cell_type": "code",
   "execution_count": 7,
   "metadata": {},
   "outputs": [
    {
     "data": {
      "text/plain": [
       "<matplotlib.axes._subplots.AxesSubplot at 0xf0a0a90>"
      ]
     },
     "execution_count": 7,
     "metadata": {},
     "output_type": "execute_result"
    },
    {
     "data": {
      "image/png": "[encoded data removed]",
      "text/plain": [
       "<Figure size 432x288 with 1 Axes>"
      ]
     },
     "metadata": {},
     "output_type": "display_data"
    }
   ],
   "source": [
    "agrupamento2 = df.groupby(\"filme\")[\"nota\"].mean()\n",
    "agrupamento2.plot.bar()"
   ]
  },
  {
   "cell_type": "code",
   "execution_count": null,
   "metadata": {},
   "outputs": [],
   "source": []
  }
 ],
 "metadata": {
  "kernelspec": {
   "display_name": "Python 3",
   "language": "python",
   "name": "python3"
  },
  "language_info": {
   "codemirror_mode": {
    "name": "ipython",
    "version": 3
   },
   "file_extension": ".py",
   "mimetype": "text/x-python",
   "name": "python",
   "nbconvert_exporter": "python",
   "pygments_lexer": "ipython3",
   "version": "3.6.4"
  }
 },
 "nbformat": 4,
 "nbformat_minor": 2
}
