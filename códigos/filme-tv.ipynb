{
 "cells": [
  {
   "cell_type": "code",
   "execution_count": 1,
   "metadata": {},
   "outputs": [
    {
     "name": "stdout",
     "output_type": "stream",
     "text": [
      "[{'filme': 'Black Mirror: Bandersnatch', 'ano': 2018, 'nota': 7.2, 'votos': 95966}, {'filme': 'Brexit', 'ano': 2019, 'nota': 7.0, 'votos': 8587}, {'filme': 'Deadwood', 'ano': 2019, 'nota': 7.6, 'votos': 11629}, {'filme': 'King Lear', 'ano': 2018, 'nota': 6.1, 'votos': 2120}, {'filme': 'Meu Jantar com Hervé', 'ano': 2018, 'nota': 7.0, 'votos': 4551}]\n"
     ]
    }
   ],
   "source": [
    "# Melhor filme para TV\n",
    "\n",
    "import requests\n",
    "from bs4 import BeautifulSoup\n",
    "\n",
    "planilha = []\n",
    "\n",
    "links_filmes = [\"https://www.imdb.com/title/tt9495224/?ref_=nv_sr_1?ref_=nv_sr_1\", \n",
    "                \"https://www.imdb.com/title/tt8425058/?ref_=fn_al_tt_1\",\n",
    "                \"https://www.imdb.com/title/tt4943998/?ref_=nv_sr_2?ref_=nv_sr_2\",\n",
    "                \"https://www.imdb.com/title/tt7473890/?ref_=nv_sr_1?ref_=nv_sr_1\",\n",
    "                \"https://www.imdb.com/title/tt1311076/?ref_=fn_al_tt_1\"]\n",
    "\n",
    "for link in links_filmes: # Pega cada link da lista de links para fazer a requisição\n",
    "    requisicao = requests.get(link)\n",
    "\n",
    "    sopa = BeautifulSoup(requisicao.content, \"html.parser\") # Dados brutos da página inteira\n",
    "    \n",
    "    # Conjunto que acha o nome do filme\n",
    "    acha_nome_filme = sopa.find(\"div\", {\"class\": \"title_wrapper\"}) # Div com o nome do episódio\n",
    "    nome_filme_sujo = acha_nome_filme.find(\"h1\", {\"class\": \"\"}).text.strip() # Limpa só o nome do episódio\n",
    "    \n",
    "    lista = nome_filme_sujo.split(\"(\")\n",
    "    nome_filme = lista[0]\n",
    "    nome_filme = nome_filme.strip()\n",
    "    ano = lista[1]\n",
    "    ano = ano.replace(\")\", \"\")\n",
    "                            \n",
    "    # Conjunto que acha a avaliação do filme\n",
    "    avaliacao = sopa.find(\"div\", {\"class\": \"imdbRating\"})\n",
    "    nota = avaliacao.find(\"span\", {\"itemprop\": \"ratingValue\"}).text.strip()\n",
    "    votos = avaliacao.find(\"span\", {\"class\": \"small\", \"itemprop\": \"ratingCount\"}).text.strip()\n",
    "    votos = votos.replace(\",\", \"\") # Limpa para poder converter para inteiro\n",
    "    \n",
    "    dicionario = {\"filme\": nome_filme, \"ano\": int(ano), \"nota\": float(nota), \"votos\": int(votos)} # Monta o dicionário\n",
    "    planilha.append(dicionario) # Adiciona planilha ao dicionário\n",
    "    \n",
    "print(planilha)"
   ]
  },
  {
   "cell_type": "code",
   "execution_count": 2,
   "metadata": {},
   "outputs": [
    {
     "data": {
      "text/html": [
       "<div>\n",
       "<style scoped>\n",
       "    .dataframe tbody tr th:only-of-type {\n",
       "        vertical-align: middle;\n",
       "    }\n",
       "\n",
       "    .dataframe tbody tr th {\n",
       "        vertical-align: top;\n",
       "    }\n",
       "\n",
       "    .dataframe thead th {\n",
       "        text-align: right;\n",
       "    }\n",
       "</style>\n",
       "<table border=\"1\" class=\"dataframe\">\n",
       "  <thead>\n",
       "    <tr style=\"text-align: right;\">\n",
       "      <th></th>\n",
       "      <th>filme</th>\n",
       "      <th>ano</th>\n",
       "      <th>nota</th>\n",
       "      <th>votos</th>\n",
       "    </tr>\n",
       "  </thead>\n",
       "  <tbody>\n",
       "    <tr>\n",
       "      <td>2</td>\n",
       "      <td>Deadwood</td>\n",
       "      <td>2019</td>\n",
       "      <td>7.6</td>\n",
       "      <td>11629</td>\n",
       "    </tr>\n",
       "    <tr>\n",
       "      <td>0</td>\n",
       "      <td>Black Mirror: Bandersnatch</td>\n",
       "      <td>2018</td>\n",
       "      <td>7.2</td>\n",
       "      <td>95966</td>\n",
       "    </tr>\n",
       "    <tr>\n",
       "      <td>1</td>\n",
       "      <td>Brexit</td>\n",
       "      <td>2019</td>\n",
       "      <td>7.0</td>\n",
       "      <td>8587</td>\n",
       "    </tr>\n",
       "    <tr>\n",
       "      <td>4</td>\n",
       "      <td>Meu Jantar com Hervé</td>\n",
       "      <td>2018</td>\n",
       "      <td>7.0</td>\n",
       "      <td>4551</td>\n",
       "    </tr>\n",
       "    <tr>\n",
       "      <td>3</td>\n",
       "      <td>King Lear</td>\n",
       "      <td>2018</td>\n",
       "      <td>6.1</td>\n",
       "      <td>2120</td>\n",
       "    </tr>\n",
       "  </tbody>\n",
       "</table>\n",
       "</div>"
      ],
      "text/plain": [
       "                        filme   ano  nota  votos\n",
       "2                    Deadwood  2019   7.6  11629\n",
       "0  Black Mirror: Bandersnatch  2018   7.2  95966\n",
       "1                      Brexit  2019   7.0   8587\n",
       "4        Meu Jantar com Hervé  2018   7.0   4551\n",
       "3                   King Lear  2018   6.1   2120"
      ]
     },
     "execution_count": 2,
     "metadata": {},
     "output_type": "execute_result"
    }
   ],
   "source": [
    "import pandas\n",
    "\n",
    "df = pandas.DataFrame(planilha)\n",
    "df.to_csv(\"filme-tv.csv\", sep = \";\", encoding = \"utf-8\")\n",
    "df.sort_values(by = \"nota\", ascending = False)"
   ]
  },
  {
   "cell_type": "code",
   "execution_count": 3,
   "metadata": {},
   "outputs": [
    {
     "data": {
      "text/plain": [
       "<matplotlib.axes._subplots.AxesSubplot at 0xb956590>"
      ]
     },
     "execution_count": 3,
     "metadata": {},
     "output_type": "execute_result"
    },
    {
     "data": {
      "image/png": "[encoded data removed]",
      "text/plain": [
       "<Figure size 432x288 with 1 Axes>"
      ]
     },
     "metadata": {
      "needs_background": "light"
     },
     "output_type": "display_data"
    }
   ],
   "source": [
    "%matplotlib inline\n",
    "import matplotlib.pyplot as plt\n",
    "\n",
    "agrupamento1 = df.groupby(\"filme\")[\"votos\"].sum()\n",
    "agrupamento1.plot.bar()"
   ]
  },
  {
   "cell_type": "code",
   "execution_count": 4,
   "metadata": {},
   "outputs": [
    {
     "data": {
      "text/plain": [
       "<matplotlib.axes._subplots.AxesSubplot at 0xca74af0>"
      ]
     },
     "execution_count": 4,
     "metadata": {},
     "output_type": "execute_result"
    },
    {
     "data": {
      "image/png": "[encoded data removed]",
      "text/plain": [
       "<Figure size 432x288 with 1 Axes>"
      ]
     },
     "metadata": {
      "needs_background": "light"
     },
     "output_type": "display_data"
    }
   ],
   "source": [
    "agrupamento2 = df.groupby(\"filme\")[\"nota\"].mean()\n",
    "agrupamento2.plot.bar()"
   ]
  },
  {
   "cell_type": "code",
   "execution_count": null,
   "metadata": {},
   "outputs": [],
   "source": []
  }
 ],
 "metadata": {
  "kernelspec": {
   "display_name": "Python 3",
   "language": "python",
   "name": "python3"
  },
  "language_info": {
   "codemirror_mode": {
    "name": "ipython",
    "version": 3
   },
   "file_extension": ".py",
   "mimetype": "text/x-python",
   "name": "python",
   "nbconvert_exporter": "python",
   "pygments_lexer": "ipython3",
   "version": "3.7.4"
  }
 },
 "nbformat": 4,
 "nbformat_minor": 2
}
