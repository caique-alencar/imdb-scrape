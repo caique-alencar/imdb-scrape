{
 "cells": [
  {
   "cell_type": "code",
   "execution_count": 1,
   "metadata": {},
   "outputs": [
    {
     "name": "stdout",
     "output_type": "stream",
     "text": [
      "[{'filme': 'Fyre', 'ano': 2019, 'nota': 7.2, 'votos': 27518}, {'filme': 'The Inventor: Out for Blood in Silicon Valley', 'ano': 2019, 'nota': 7.1, 'votos': 4890}, {'filme': 'Jane Fonda in Five Acts', 'ano': 2018, 'nota': 7.9, 'votos': 1342}, {'filme': 'Deixando Neverland', 'ano': 2019, 'nota': 7.0, 'votos': 21188}, {'filme': 'Love, Gilda', 'ano': 2018, 'nota': 7.4, 'votos': 1055}, {'filme': 'Minding the Gap', 'ano': 2018, 'nota': 8.1, 'votos': 5420}]\n"
     ]
    }
   ],
   "source": [
    "# Melhor documentário\n",
    "\n",
    "import requests\n",
    "from bs4 import BeautifulSoup\n",
    "\n",
    "planilha = []\n",
    "\n",
    "links_documentarios = [\"https://www.imdb.com/title/tt9412098/?ref_=nv_sr_1?ref_=nv_sr_1\",\n",
    "                       \"https://www.imdb.com/title/tt8488126/?ref_=nv_sr_1?ref_=nv_sr_1\",\n",
    "                       \"https://www.imdb.com/title/tt7689958/?ref_=nv_sr_1?ref_=nv_sr_1\",\n",
    "                       \"https://www.imdb.com/title/tt9573980/?ref_=fn_al_tt_1\",\n",
    "                       \"https://www.imdb.com/title/tt5424228/?ref_=nv_sr_1?ref_=nv_sr_1\",\n",
    "                       \"https://www.imdb.com/title/tt7476236/?ref_=nv_sr_1?ref_=nv_sr_1\"]\n",
    "\n",
    "for link in links_documentarios: # Pega cada link da lista de links para fazer a requisição\n",
    "    requisicao = requests.get(link)\n",
    "\n",
    "    sopa = BeautifulSoup(requisicao.content, \"html.parser\") # Dados brutos da página inteira\n",
    "    \n",
    "    # Conjunto que acha o nome do filme\n",
    "    acha_nome_filme = sopa.find(\"div\", {\"class\": \"title_wrapper\"}) # Div com o nome do episódio\n",
    "    nome_filme_sujo = acha_nome_filme.find(\"h1\", {\"class\": \"\"}).text.strip() # Limpa só o nome do episódio\n",
    "    \n",
    "    lista = nome_filme_sujo.split(\"(\")\n",
    "    nome_filme = lista[0]\n",
    "    nome_filme = nome_filme.strip()\n",
    "    ano = lista[1]\n",
    "    ano = ano.replace(\")\", \"\")\n",
    "                            \n",
    "    # Conjunto que acha a avaliação do filme\n",
    "    avaliacao = sopa.find(\"div\", {\"class\": \"imdbRating\"})\n",
    "    nota = avaliacao.find(\"span\", {\"itemprop\": \"ratingValue\"}).text.strip()\n",
    "    votos = avaliacao.find(\"span\", {\"class\": \"small\", \"itemprop\": \"ratingCount\"}).text.strip()\n",
    "    votos = votos.replace(\",\", \"\") # Limpa para poder converter para inteiro\n",
    "    \n",
    "    dicionario = {\"filme\": nome_filme, \"ano\": int(ano), \"nota\": float(nota), \"votos\": int(votos)} # Monta o dicionário\n",
    "    planilha.append(dicionario) # Adiciona planilha ao dicionário\n",
    "    \n",
    "print(planilha)"
   ]
  },
  {
   "cell_type": "code",
   "execution_count": 2,
   "metadata": {},
   "outputs": [
    {
     "data": {
      "text/html": [
       "<div>\n",
       "<style scoped>\n",
       "    .dataframe tbody tr th:only-of-type {\n",
       "        vertical-align: middle;\n",
       "    }\n",
       "\n",
       "    .dataframe tbody tr th {\n",
       "        vertical-align: top;\n",
       "    }\n",
       "\n",
       "    .dataframe thead th {\n",
       "        text-align: right;\n",
       "    }\n",
       "</style>\n",
       "<table border=\"1\" class=\"dataframe\">\n",
       "  <thead>\n",
       "    <tr style=\"text-align: right;\">\n",
       "      <th></th>\n",
       "      <th>filme</th>\n",
       "      <th>ano</th>\n",
       "      <th>nota</th>\n",
       "      <th>votos</th>\n",
       "    </tr>\n",
       "  </thead>\n",
       "  <tbody>\n",
       "    <tr>\n",
       "      <td>5</td>\n",
       "      <td>Minding the Gap</td>\n",
       "      <td>2018</td>\n",
       "      <td>8.1</td>\n",
       "      <td>5420</td>\n",
       "    </tr>\n",
       "    <tr>\n",
       "      <td>2</td>\n",
       "      <td>Jane Fonda in Five Acts</td>\n",
       "      <td>2018</td>\n",
       "      <td>7.9</td>\n",
       "      <td>1342</td>\n",
       "    </tr>\n",
       "    <tr>\n",
       "      <td>4</td>\n",
       "      <td>Love, Gilda</td>\n",
       "      <td>2018</td>\n",
       "      <td>7.4</td>\n",
       "      <td>1055</td>\n",
       "    </tr>\n",
       "    <tr>\n",
       "      <td>0</td>\n",
       "      <td>Fyre</td>\n",
       "      <td>2019</td>\n",
       "      <td>7.2</td>\n",
       "      <td>27518</td>\n",
       "    </tr>\n",
       "    <tr>\n",
       "      <td>1</td>\n",
       "      <td>The Inventor: Out for Blood in Silicon Valley</td>\n",
       "      <td>2019</td>\n",
       "      <td>7.1</td>\n",
       "      <td>4890</td>\n",
       "    </tr>\n",
       "    <tr>\n",
       "      <td>3</td>\n",
       "      <td>Deixando Neverland</td>\n",
       "      <td>2019</td>\n",
       "      <td>7.0</td>\n",
       "      <td>21188</td>\n",
       "    </tr>\n",
       "  </tbody>\n",
       "</table>\n",
       "</div>"
      ],
      "text/plain": [
       "                                           filme   ano  nota  votos\n",
       "5                                Minding the Gap  2018   8.1   5420\n",
       "2                        Jane Fonda in Five Acts  2018   7.9   1342\n",
       "4                                    Love, Gilda  2018   7.4   1055\n",
       "0                                           Fyre  2019   7.2  27518\n",
       "1  The Inventor: Out for Blood in Silicon Valley  2019   7.1   4890\n",
       "3                             Deixando Neverland  2019   7.0  21188"
      ]
     },
     "execution_count": 2,
     "metadata": {},
     "output_type": "execute_result"
    }
   ],
   "source": [
    "import pandas\n",
    "\n",
    "df = pandas.DataFrame(planilha)\n",
    "df.to_csv(\"documentario.csv\", sep = \";\", encoding = \"utf-8\")\n",
    "df.sort_values(by = \"nota\", ascending = False)"
   ]
  },
  {
   "cell_type": "code",
   "execution_count": 3,
   "metadata": {},
   "outputs": [
    {
     "data": {
      "text/plain": [
       "<matplotlib.axes._subplots.AxesSubplot at 0xbd1cdf0>"
      ]
     },
     "execution_count": 3,
     "metadata": {},
     "output_type": "execute_result"
    },
    {
     "data": {
      "image/png": "[encoded data removed]",
      "text/plain": [
       "<Figure size 432x288 with 1 Axes>"
      ]
     },
     "metadata": {
      "needs_background": "light"
     },
     "output_type": "display_data"
    }
   ],
   "source": [
    "%matplotlib inline\n",
    "import matplotlib.pyplot as plt\n",
    "\n",
    "agrupamento1 = df.groupby(\"filme\")[\"votos\"].sum()\n",
    "agrupamento1.plot.bar()"
   ]
  },
  {
   "cell_type": "code",
   "execution_count": 4,
   "metadata": {},
   "outputs": [
    {
     "data": {
      "text/plain": [
       "<matplotlib.axes._subplots.AxesSubplot at 0xce04110>"
      ]
     },
     "execution_count": 4,
     "metadata": {},
     "output_type": "execute_result"
    },
    {
     "data": {
      "image/png": "[encoded data removed]",
      "text/plain": [
       "<Figure size 432x288 with 1 Axes>"
      ]
     },
     "metadata": {
      "needs_background": "light"
     },
     "output_type": "display_data"
    }
   ],
   "source": [
    "agrupamento2 = df.groupby(\"filme\")[\"nota\"].mean()\n",
    "agrupamento2.plot.bar()"
   ]
  },
  {
   "cell_type": "code",
   "execution_count": null,
   "metadata": {},
   "outputs": [],
   "source": []
  }
 ],
 "metadata": {
  "kernelspec": {
   "display_name": "Python 3",
   "language": "python",
   "name": "python3"
  },
  "language_info": {
   "codemirror_mode": {
    "name": "ipython",
    "version": 3
   },
   "file_extension": ".py",
   "mimetype": "text/x-python",
   "name": "python",
   "nbconvert_exporter": "python",
   "pygments_lexer": "ipython3",
   "version": "3.7.4"
  }
 },
 "nbformat": 4,
 "nbformat_minor": 2
}
