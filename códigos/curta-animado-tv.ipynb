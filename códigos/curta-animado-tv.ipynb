{
 "cells": [
  {
   "cell_type": "code",
   "execution_count": 1,
   "metadata": {},
   "outputs": [
    {
     "name": "stdout",
     "output_type": "stream",
     "text": [
      "[{'serie': 'Amor, Morte & Robos', 'temporada': '1', 'episodio': ' 3', 'nome_episodio': 'The Witness', 'nota': 7.8, 'votos': 10360}, {'serie': 'Frango Robô', 'temporada': '9', 'episodio': ' 15', 'nome_episodio': 'Why Is It Wet?', 'nota': 7.6, 'votos': 27}, {'serie': 'Bob Esponja Calça Quadrada', 'temporada': '11', 'episodio': ' 20', 'nome_episodio': 'Plankton Paranoia/Library Cards', 'nota': 5.7, 'votos': 97}, {'serie': 'Steven Universo', 'temporada': '5', 'episodio': ' 23', 'nome_episodio': 'Reunited', 'nota': 9.6, 'votos': 855}, {'serie': 'Os Jovens Titãs em Ação!', 'temporada': '5', 'episodio': ' 19', 'nome_episodio': 'Nostalgia is Not A Substitute For An Actual Story', 'nota': 5.8, 'votos': 12}]\n"
     ]
    }
   ],
   "source": [
    "# Melhor Curta Animado para TV\n",
    "\n",
    "import requests\n",
    "from bs4 import BeautifulSoup\n",
    "\n",
    "planilha = []\n",
    "\n",
    "links_episodios = [\"https://www.imdb.com/title/tt9788486/?ref_=ttep_ep3\",\n",
    "                   \"https://www.imdb.com/title/tt8530658/?ref_=ttep_ep16\",\n",
    "                   \"https://www.imdb.com/title/tt8260854/?ref_=ttep_ep20\",\n",
    "                   \"https://www.imdb.com/title/tt8580186/?ref_=ttep_ep23\",\n",
    "                   \"https://www.imdb.com/title/tt9659582/?ref_=ttep_ep19\"]\n",
    "\n",
    "for link in links_episodios: # Pega cada link da lista de links para fazer a requisição\n",
    "    requisicao = requests.get(link)\n",
    "\n",
    "    sopa = BeautifulSoup(requisicao.content, \"html.parser\") # Dados brutos da página inteira\n",
    "    \n",
    "    # Conjunto que acha o nome da série\n",
    "    acha_nome = sopa.find(\"div\", {\"class\": \"titleParent\"})\n",
    "    nome_serie = acha_nome.find(\"a\").text\n",
    "\n",
    "    # Conjunto que acha a temporada e o número do episódio\n",
    "    acha_temp_episodio = sopa.find(\"div\", {\"class\": \"bp_description\"})\n",
    "    temp_episodio = acha_temp_episodio.find(\"div\", {\"class\": \"bp_heading\"}).text.strip() # Temporada e episódio dentro da mesma tag separados por |\n",
    "    lista = temp_episodio.split(\" | \") # Comando split e cria uma lista com os dois itens\n",
    "    temporada = lista[0] # Primeiro item da lista corresponde à temporada\n",
    "    episodio = lista[1] # Segundo item da lista corresponde ao episódio\n",
    "    temporada = temporada.replace(\"Season \", \"\") # Limpa para deixar só o número\n",
    "    episodio = episodio.replace(\"Episode\", \"\") # Limpa para deixar só o número\n",
    "    \n",
    "    # Conjunto que acha o nome do episódio\n",
    "    \n",
    "    acha_nome_episodio = sopa.find(\"div\", {\"class\": \"title_wrapper\"}) # Div com o nome do episódio\n",
    "    nome_episodio = acha_nome_episodio.find(\"h1\").text.strip() # Limpa só o nome do episódio\n",
    "\n",
    "    # Conjunto que acha a avaliação do episódio\n",
    "    avaliacao = sopa.find(\"div\", {\"class\": \"imdbRating\"})\n",
    "    nota = avaliacao.find(\"span\", {\"itemprop\": \"ratingValue\"}).text.strip()\n",
    "    votos = avaliacao.find(\"span\", {\"itemprop\": \"ratingCount\"}).text.strip()\n",
    "    votos = votos.replace(\",\", \"\") # Limpa para poder converter para inteiro\n",
    "    \n",
    "    dicionario = {\"serie\": nome_serie, \"temporada\": temporada, \"episodio\": episodio, \"nome_episodio\": nome_episodio, \"nota\": float(nota), \"votos\": int(votos)} # Monta o dicionário\n",
    "    planilha.append(dicionario) # Adiciona planilha ao dicionário\n",
    "    \n",
    "print(planilha)"
   ]
  },
  {
   "cell_type": "code",
   "execution_count": 2,
   "metadata": {},
   "outputs": [
    {
     "data": {
      "text/html": [
       "<div>\n",
       "<style scoped>\n",
       "    .dataframe tbody tr th:only-of-type {\n",
       "        vertical-align: middle;\n",
       "    }\n",
       "\n",
       "    .dataframe tbody tr th {\n",
       "        vertical-align: top;\n",
       "    }\n",
       "\n",
       "    .dataframe thead th {\n",
       "        text-align: right;\n",
       "    }\n",
       "</style>\n",
       "<table border=\"1\" class=\"dataframe\">\n",
       "  <thead>\n",
       "    <tr style=\"text-align: right;\">\n",
       "      <th></th>\n",
       "      <th>serie</th>\n",
       "      <th>temporada</th>\n",
       "      <th>episodio</th>\n",
       "      <th>nome_episodio</th>\n",
       "      <th>nota</th>\n",
       "      <th>votos</th>\n",
       "    </tr>\n",
       "  </thead>\n",
       "  <tbody>\n",
       "    <tr>\n",
       "      <td>3</td>\n",
       "      <td>Steven Universo</td>\n",
       "      <td>5</td>\n",
       "      <td>23</td>\n",
       "      <td>Reunited</td>\n",
       "      <td>9.6</td>\n",
       "      <td>855</td>\n",
       "    </tr>\n",
       "    <tr>\n",
       "      <td>0</td>\n",
       "      <td>Amor, Morte &amp; Robos</td>\n",
       "      <td>1</td>\n",
       "      <td>3</td>\n",
       "      <td>The Witness</td>\n",
       "      <td>7.8</td>\n",
       "      <td>10360</td>\n",
       "    </tr>\n",
       "    <tr>\n",
       "      <td>1</td>\n",
       "      <td>Frango Robô</td>\n",
       "      <td>9</td>\n",
       "      <td>15</td>\n",
       "      <td>Why Is It Wet?</td>\n",
       "      <td>7.6</td>\n",
       "      <td>27</td>\n",
       "    </tr>\n",
       "    <tr>\n",
       "      <td>4</td>\n",
       "      <td>Os Jovens Titãs em Ação!</td>\n",
       "      <td>5</td>\n",
       "      <td>19</td>\n",
       "      <td>Nostalgia is Not A Substitute For An Actual Story</td>\n",
       "      <td>5.8</td>\n",
       "      <td>12</td>\n",
       "    </tr>\n",
       "    <tr>\n",
       "      <td>2</td>\n",
       "      <td>Bob Esponja Calça Quadrada</td>\n",
       "      <td>11</td>\n",
       "      <td>20</td>\n",
       "      <td>Plankton Paranoia/Library Cards</td>\n",
       "      <td>5.7</td>\n",
       "      <td>97</td>\n",
       "    </tr>\n",
       "  </tbody>\n",
       "</table>\n",
       "</div>"
      ],
      "text/plain": [
       "                        serie temporada episodio  \\\n",
       "3             Steven Universo         5       23   \n",
       "0         Amor, Morte & Robos         1        3   \n",
       "1                 Frango Robô         9       15   \n",
       "4    Os Jovens Titãs em Ação!         5       19   \n",
       "2  Bob Esponja Calça Quadrada        11       20   \n",
       "\n",
       "                                       nome_episodio  nota  votos  \n",
       "3                                           Reunited   9.6    855  \n",
       "0                                        The Witness   7.8  10360  \n",
       "1                                     Why Is It Wet?   7.6     27  \n",
       "4  Nostalgia is Not A Substitute For An Actual Story   5.8     12  \n",
       "2                    Plankton Paranoia/Library Cards   5.7     97  "
      ]
     },
     "execution_count": 2,
     "metadata": {},
     "output_type": "execute_result"
    }
   ],
   "source": [
    "import pandas\n",
    "\n",
    "df = pandas.DataFrame(planilha)\n",
    "df.to_csv(\"curta-animado-tv.csv\", sep = \";\", encoding = \"utf-8\")\n",
    "df.sort_values(by = \"nota\", ascending = False)"
   ]
  },
  {
   "cell_type": "code",
   "execution_count": 3,
   "metadata": {},
   "outputs": [
    {
     "data": {
      "text/plain": [
       "<matplotlib.axes._subplots.AxesSubplot at 0xc42dd50>"
      ]
     },
     "execution_count": 3,
     "metadata": {},
     "output_type": "execute_result"
    },
    {
     "data": {
      "image/png": "[encoded data removed]",
      "text/plain": [
       "<Figure size 432x288 with 1 Axes>"
      ]
     },
     "metadata": {
      "needs_background": "light"
     },
     "output_type": "display_data"
    }
   ],
   "source": [
    "%matplotlib inline\n",
    "import matplotlib.pyplot as plt\n",
    "\n",
    "agrupamento1 = df.groupby(\"serie\")[\"nota\"].mean()\n",
    "agrupamento1.plot.bar()"
   ]
  },
  {
   "cell_type": "code",
   "execution_count": 4,
   "metadata": {},
   "outputs": [
    {
     "data": {
      "text/plain": [
       "<matplotlib.axes._subplots.AxesSubplot at 0xd4ee2b0>"
      ]
     },
     "execution_count": 4,
     "metadata": {},
     "output_type": "execute_result"
    },
    {
     "data": {
      "image/png": "[encoded data removed]",
      "text/plain": [
       "<Figure size 432x288 with 1 Axes>"
      ]
     },
     "metadata": {
      "needs_background": "light"
     },
     "output_type": "display_data"
    }
   ],
   "source": [
    "agrupamento2 = df.groupby(\"serie\")[\"votos\"].sum()\n",
    "agrupamento2.plot.bar()"
   ]
  },
  {
   "cell_type": "code",
   "execution_count": null,
   "metadata": {},
   "outputs": [],
   "source": []
  }
 ],
 "metadata": {
  "kernelspec": {
   "display_name": "Python 3",
   "language": "python",
   "name": "python3"
  },
  "language_info": {
   "codemirror_mode": {
    "name": "ipython",
    "version": 3
   },
   "file_extension": ".py",
   "mimetype": "text/x-python",
   "name": "python",
   "nbconvert_exporter": "python",
   "pygments_lexer": "ipython3",
   "version": "3.7.4"
  }
 },
 "nbformat": 4,
 "nbformat_minor": 2
}
