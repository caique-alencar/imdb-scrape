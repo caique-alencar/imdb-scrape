{
 "cells": [
  {
   "cell_type": "code",
   "execution_count": 1,
   "metadata": {},
   "outputs": [
    {
     "name": "stdout",
     "output_type": "stream",
     "text": [
      "[{'serie': 'Big Mouth', 'temporada': '2', 'episodio': ' 5', 'nome_episodio': 'The Planned Parenthood Show', 'nota': 7.5, 'votos': 742}, {'serie': \"Bob's Burgers\", 'temporada': '9', 'episodio': ' 1', 'nome_episodio': 'Just One of the Boyz 4 Now for Now', 'nota': 7.5, 'votos': 341}, {'serie': 'BoJack Horseman', 'temporada': '5', 'episodio': ' 6', 'nome_episodio': 'Free Churro', 'nota': 9.8, 'votos': 6550}, {'serie': 'Hora de Aventura', 'temporada': '10', 'episodio': ' 13', 'nome_episodio': 'Come Along With Me', 'nota': 9.7, 'votos': 1325}, {'serie': 'Os Simpsons', 'temporada': '30', 'episodio': ' 11', 'nome_episodio': 'Mad About the Toy', 'nota': 5.8, 'votos': 397}]\n"
     ]
    }
   ],
   "source": [
    "# Melhor Animação\n",
    "\n",
    "import requests\n",
    "from bs4 import BeautifulSoup\n",
    "\n",
    "planilha = []\n",
    "\n",
    "links_episodios = [\"https://www.imdb.com/title/tt7808462/?ref_=ttep_ep5\",\n",
    "                   \"https://www.imdb.com/title/tt8407530/?ref_=ttep_ep1\",\n",
    "                   \"https://www.imdb.com/title/tt8266826/?ref_=ttep_ep6\",\n",
    "                   \"https://www.imdb.com/title/tt8164820/?ref_=ttep_ep13\",\n",
    "                   \"https://www.imdb.com/title/tt8730984/?ref_=ttep_ep11\"]\n",
    "\n",
    "for link in links_episodios: # Pega cada link da lista de links para fazer a requisição\n",
    "    requisicao = requests.get(link)\n",
    "\n",
    "    sopa = BeautifulSoup(requisicao.content, \"html.parser\") # Dados brutos da página inteira\n",
    "    \n",
    "    # Conjunto que acha o nome da série\n",
    "    acha_nome = sopa.find(\"div\", {\"class\": \"titleParent\"})\n",
    "    nome_serie = acha_nome.find(\"a\").text\n",
    "\n",
    "    # Conjunto que acha a temporada e o número do episódio\n",
    "    acha_temp_episodio = sopa.find(\"div\", {\"class\": \"bp_description\"})\n",
    "    temp_episodio = acha_temp_episodio.find(\"div\", {\"class\": \"bp_heading\"}).text.strip() # Temporada e episódio dentro da mesma tag separados por |\n",
    "    lista = temp_episodio.split(\" | \") # Comando split e cria uma lista com os dois itens\n",
    "    temporada = lista[0] # Primeiro item da lista corresponde à temporada\n",
    "    episodio = lista[1] # Segundo item da lista corresponde ao episódio\n",
    "    temporada = temporada.replace(\"Season \", \"\") # Limpa para deixar só o número\n",
    "    episodio = episodio.replace(\"Episode\", \"\") # Limpa para deixar só o número\n",
    "    \n",
    "    # Conjunto que acha o nome do episódio\n",
    "    acha_nome_episodio = sopa.find(\"div\", {\"class\": \"title_wrapper\"}) # Div com o nome do episódio\n",
    "    nome_episodio = acha_nome_episodio.find(\"h1\").text.strip() # Limpa só o nome do episódio\n",
    "\n",
    "    # Conjunto que acha a avaliação do episódio\n",
    "    avaliacao = sopa.find(\"div\", {\"class\": \"imdbRating\"})\n",
    "    nota = avaliacao.find(\"span\", {\"itemprop\": \"ratingValue\"}).text.strip()\n",
    "    votos = avaliacao.find(\"span\", {\"itemprop\": \"ratingCount\"}).text.strip()\n",
    "    votos = votos.replace(\",\", \"\") # Limpa para poder converter para inteiro\n",
    "    \n",
    "    dicionario = {\"serie\": nome_serie, \"temporada\": temporada, \"episodio\": episodio, \"nome_episodio\": nome_episodio, \"nota\": float(nota), \"votos\": int(votos)} # Monta o dicionário\n",
    "    planilha.append(dicionario) # Adiciona planilha ao dicionário\n",
    "    \n",
    "print(planilha)"
   ]
  },
  {
   "cell_type": "code",
   "execution_count": 2,
   "metadata": {},
   "outputs": [
    {
     "data": {
      "text/html": [
       "<div>\n",
       "<style scoped>\n",
       "    .dataframe tbody tr th:only-of-type {\n",
       "        vertical-align: middle;\n",
       "    }\n",
       "\n",
       "    .dataframe tbody tr th {\n",
       "        vertical-align: top;\n",
       "    }\n",
       "\n",
       "    .dataframe thead th {\n",
       "        text-align: right;\n",
       "    }\n",
       "</style>\n",
       "<table border=\"1\" class=\"dataframe\">\n",
       "  <thead>\n",
       "    <tr style=\"text-align: right;\">\n",
       "      <th></th>\n",
       "      <th>serie</th>\n",
       "      <th>temporada</th>\n",
       "      <th>episodio</th>\n",
       "      <th>nome_episodio</th>\n",
       "      <th>nota</th>\n",
       "      <th>votos</th>\n",
       "    </tr>\n",
       "  </thead>\n",
       "  <tbody>\n",
       "    <tr>\n",
       "      <td>2</td>\n",
       "      <td>BoJack Horseman</td>\n",
       "      <td>5</td>\n",
       "      <td>6</td>\n",
       "      <td>Free Churro</td>\n",
       "      <td>9.8</td>\n",
       "      <td>6550</td>\n",
       "    </tr>\n",
       "    <tr>\n",
       "      <td>3</td>\n",
       "      <td>Hora de Aventura</td>\n",
       "      <td>10</td>\n",
       "      <td>13</td>\n",
       "      <td>Come Along With Me</td>\n",
       "      <td>9.7</td>\n",
       "      <td>1325</td>\n",
       "    </tr>\n",
       "    <tr>\n",
       "      <td>0</td>\n",
       "      <td>Big Mouth</td>\n",
       "      <td>2</td>\n",
       "      <td>5</td>\n",
       "      <td>The Planned Parenthood Show</td>\n",
       "      <td>7.5</td>\n",
       "      <td>742</td>\n",
       "    </tr>\n",
       "    <tr>\n",
       "      <td>1</td>\n",
       "      <td>Bob's Burgers</td>\n",
       "      <td>9</td>\n",
       "      <td>1</td>\n",
       "      <td>Just One of the Boyz 4 Now for Now</td>\n",
       "      <td>7.5</td>\n",
       "      <td>341</td>\n",
       "    </tr>\n",
       "    <tr>\n",
       "      <td>4</td>\n",
       "      <td>Os Simpsons</td>\n",
       "      <td>30</td>\n",
       "      <td>11</td>\n",
       "      <td>Mad About the Toy</td>\n",
       "      <td>5.8</td>\n",
       "      <td>397</td>\n",
       "    </tr>\n",
       "  </tbody>\n",
       "</table>\n",
       "</div>"
      ],
      "text/plain": [
       "              serie temporada episodio                       nome_episodio  \\\n",
       "2   BoJack Horseman         5        6                         Free Churro   \n",
       "3  Hora de Aventura        10       13                  Come Along With Me   \n",
       "0         Big Mouth         2        5         The Planned Parenthood Show   \n",
       "1     Bob's Burgers         9        1  Just One of the Boyz 4 Now for Now   \n",
       "4       Os Simpsons        30       11                   Mad About the Toy   \n",
       "\n",
       "   nota  votos  \n",
       "2   9.8   6550  \n",
       "3   9.7   1325  \n",
       "0   7.5    742  \n",
       "1   7.5    341  \n",
       "4   5.8    397  "
      ]
     },
     "execution_count": 2,
     "metadata": {},
     "output_type": "execute_result"
    }
   ],
   "source": [
    "import pandas\n",
    "\n",
    "df = pandas.DataFrame(planilha)\n",
    "df.to_csv(\"animacao.csv\", sep = \";\", encoding = \"utf-8\")\n",
    "df.sort_values(by = \"nota\", ascending = False)"
   ]
  },
  {
   "cell_type": "code",
   "execution_count": 3,
   "metadata": {},
   "outputs": [
    {
     "data": {
      "text/plain": [
       "<matplotlib.axes._subplots.AxesSubplot at 0xd3831f0>"
      ]
     },
     "execution_count": 3,
     "metadata": {},
     "output_type": "execute_result"
    },
    {
     "data": {
      "image/png": "[encoded data removed]",
      "text/plain": [
       "<Figure size 432x288 with 1 Axes>"
      ]
     },
     "metadata": {
      "needs_background": "light"
     },
     "output_type": "display_data"
    }
   ],
   "source": [
    "%matplotlib inline\n",
    "import matplotlib.pyplot as plt\n",
    "\n",
    "agrupamento1 = df.groupby(\"serie\")[\"nota\"].mean()\n",
    "agrupamento1.plot.bar()"
   ]
  },
  {
   "cell_type": "code",
   "execution_count": 4,
   "metadata": {},
   "outputs": [
    {
     "data": {
      "text/plain": [
       "<matplotlib.axes._subplots.AxesSubplot at 0xe40e290>"
      ]
     },
     "execution_count": 4,
     "metadata": {},
     "output_type": "execute_result"
    },
    {
     "data": {
      "image/png": "[encoded data removed]",
      "text/plain": [
       "<Figure size 432x288 with 1 Axes>"
      ]
     },
     "metadata": {
      "needs_background": "light"
     },
     "output_type": "display_data"
    }
   ],
   "source": [
    "agrupamento2 = df.groupby(\"serie\")[\"votos\"].sum()\n",
    "agrupamento2.plot.bar()"
   ]
  },
  {
   "cell_type": "code",
   "execution_count": null,
   "metadata": {},
   "outputs": [],
   "source": []
  }
 ],
 "metadata": {
  "kernelspec": {
   "display_name": "Python 3",
   "language": "python",
   "name": "python3"
  },
  "language_info": {
   "codemirror_mode": {
    "name": "ipython",
    "version": 3
   },
   "file_extension": ".py",
   "mimetype": "text/x-python",
   "name": "python",
   "nbconvert_exporter": "python",
   "pygments_lexer": "ipython3",
   "version": "3.7.4"
  }
 },
 "nbformat": 4,
 "nbformat_minor": 2
}
